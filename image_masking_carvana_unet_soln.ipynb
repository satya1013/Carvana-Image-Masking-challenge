{
 "cells": [
  {
   "cell_type": "markdown",
   "id": "ee7d51ff",
   "metadata": {
    "papermill": {
     "duration": 0.040262,
     "end_time": "2022-01-20T10:05:59.437089",
     "exception": false,
     "start_time": "2022-01-20T10:05:59.396827",
     "status": "completed"
    },
    "tags": []
   },
   "source": [
    "## Functions to load and read input data"
   ]
  },
  {
   "cell_type": "code",
   "execution_count": 1,
   "id": "d3d39375",
   "metadata": {
    "_cell_guid": "b1076dfc-b9ad-4769-8c92-a6c4dae69d19",
    "_uuid": "8f2839f25d086af736a60e9eeb907d3b93b6e0e5",
    "execution": {
     "iopub.execute_input": "2022-01-20T10:05:59.528702Z",
     "iopub.status.busy": "2022-01-20T10:05:59.524249Z",
     "iopub.status.idle": "2022-01-20T10:05:59.535783Z",
     "shell.execute_reply": "2022-01-20T10:05:59.536224Z",
     "shell.execute_reply.started": "2022-01-20T08:59:51.279686Z"
    },
    "papermill": {
     "duration": 0.059415,
     "end_time": "2022-01-20T10:05:59.536480",
     "exception": false,
     "start_time": "2022-01-20T10:05:59.477065",
     "status": "completed"
    },
    "tags": []
   },
   "outputs": [
    {
     "name": "stdout",
     "output_type": "stream",
     "text": [
      "/kaggle/input/carvana-image-masking-challenge/train_masks.zip\n",
      "/kaggle/input/carvana-image-masking-challenge/29bb3ece3180_11.jpg\n",
      "/kaggle/input/carvana-image-masking-challenge/train_masks.csv.zip\n",
      "/kaggle/input/carvana-image-masking-challenge/train.zip\n",
      "/kaggle/input/carvana-image-masking-challenge/metadata.csv.zip\n",
      "/kaggle/input/carvana-image-masking-challenge/sample_submission.csv.zip\n",
      "/kaggle/input/carvana-image-masking-challenge/test.zip\n",
      "/kaggle/input/carvana-image-masking-challenge/test_hq.zip\n",
      "/kaggle/input/carvana-image-masking-challenge/train_hq.zip\n"
     ]
    }
   ],
   "source": [
    "# This Python 3 environment comes with many helpful analytics libraries installed\n",
    "# It is defined by the kaggle/python Docker image: https://github.com/kaggle/docker-python\n",
    "# For example, here's several helpful packages to load\n",
    "\n",
    "import numpy as np # linear algebra\n",
    "import pandas as pd # data processing, CSV file I/O (e.g. pd.read_csv)\n",
    "\n",
    "# Input data files are available in the read-only \"../input/\" directory\n",
    "# For example, running this (by clicking run or pressing Shift+Enter) will list all files under the input directory\n",
    "\n",
    "import os\n",
    "for dirname, _, filenames in os.walk('/kaggle/input'):\n",
    "    for filename in filenames:\n",
    "        print(os.path.join(dirname, filename))\n",
    "\n",
    "# You can write up to 20GB to the current directory (/kaggle/working/) that gets preserved as output when you create a version using \"Save & Run All\" \n",
    "# You can also write temporary files to /kaggle/temp/, but they won't be saved outside of the current session"
   ]
  },
  {
   "cell_type": "code",
   "execution_count": 2,
   "id": "c71cd2d4",
   "metadata": {
    "execution": {
     "iopub.execute_input": "2022-01-20T10:05:59.625889Z",
     "iopub.status.busy": "2022-01-20T10:05:59.625134Z",
     "iopub.status.idle": "2022-01-20T10:06:04.388159Z",
     "shell.execute_reply": "2022-01-20T10:06:04.387653Z",
     "shell.execute_reply.started": "2022-01-20T08:59:58.277304Z"
    },
    "papermill": {
     "duration": 4.807101,
     "end_time": "2022-01-20T10:06:04.388280",
     "exception": false,
     "start_time": "2022-01-20T10:05:59.581179",
     "status": "completed"
    },
    "tags": []
   },
   "outputs": [],
   "source": [
    "#importng all the required libraries\n",
    "import tensorflow as tf\n",
    "from zipfile import ZipFile \n",
    "from sklearn.model_selection import train_test_split\n",
    "import matplotlib.pyplot as plt\n",
    "import os"
   ]
  },
  {
   "cell_type": "code",
   "execution_count": 3,
   "id": "4619d19f",
   "metadata": {
    "execution": {
     "iopub.execute_input": "2022-01-20T10:06:04.471164Z",
     "iopub.status.busy": "2022-01-20T10:06:04.470601Z",
     "iopub.status.idle": "2022-01-20T10:06:14.798166Z",
     "shell.execute_reply": "2022-01-20T10:06:14.797683Z",
     "shell.execute_reply.started": "2022-01-20T09:00:03.439588Z"
    },
    "papermill": {
     "duration": 10.370587,
     "end_time": "2022-01-20T10:06:14.798294",
     "exception": false,
     "start_time": "2022-01-20T10:06:04.427707",
     "status": "completed"
    },
    "tags": []
   },
   "outputs": [],
   "source": [
    "#extracting all the contents of zipped file which contains all the train images\n",
    "train_zip = \"/kaggle/input/carvana-image-masking-challenge/train.zip\"#address of the input file \n",
    "with ZipFile(train_zip, 'r') as zip_: # reading everything in the train folder and extrcting it in output directory\n",
    "    zip_.extractall('/kaggle/working')"
   ]
  },
  {
   "cell_type": "code",
   "execution_count": 4,
   "id": "4eba6429",
   "metadata": {
    "execution": {
     "iopub.execute_input": "2022-01-20T10:06:14.882114Z",
     "iopub.status.busy": "2022-01-20T10:06:14.881406Z",
     "iopub.status.idle": "2022-01-20T10:06:15.730850Z",
     "shell.execute_reply": "2022-01-20T10:06:15.729992Z",
     "shell.execute_reply.started": "2022-01-20T09:00:13.597608Z"
    },
    "papermill": {
     "duration": 0.892941,
     "end_time": "2022-01-20T10:06:15.730984",
     "exception": false,
     "start_time": "2022-01-20T10:06:14.838043",
     "status": "completed"
    },
    "tags": []
   },
   "outputs": [],
   "source": [
    "#extracting all the contents of zipped file which contains all the masks of train images\n",
    "train_mask_zip = \"/kaggle/input/carvana-image-masking-challenge/train_masks.zip\"\n",
    "with ZipFile(train_mask_zip, 'r') as zip_: \n",
    "    zip_.extractall('/kaggle/working')"
   ]
  },
  {
   "cell_type": "code",
   "execution_count": 5,
   "id": "765c8b03",
   "metadata": {
    "execution": {
     "iopub.execute_input": "2022-01-20T10:06:15.816862Z",
     "iopub.status.busy": "2022-01-20T10:06:15.816109Z",
     "iopub.status.idle": "2022-01-20T10:06:15.826513Z",
     "shell.execute_reply": "2022-01-20T10:06:15.825903Z",
     "shell.execute_reply.started": "2022-01-20T09:00:14.425329Z"
    },
    "papermill": {
     "duration": 0.054673,
     "end_time": "2022-01-20T10:06:15.826655",
     "exception": false,
     "start_time": "2022-01-20T10:06:15.771982",
     "status": "completed"
    },
    "tags": []
   },
   "outputs": [
    {
     "name": "stdout",
     "output_type": "stream",
     "text": [
      "Train set:   5088\n",
      "Train masks: 5088\n"
     ]
    }
   ],
   "source": [
    "print(\"Train set:  \", len(os.listdir(\"/kaggle/working/train\")))#length of folder extracted above in output\n",
    "print(\"Train masks:\", len(os.listdir(\"/kaggle/working/train_masks\")))#length of folder extracted above in output"
   ]
  },
  {
   "cell_type": "code",
   "execution_count": 6,
   "id": "17ddef8a",
   "metadata": {
    "execution": {
     "iopub.execute_input": "2022-01-20T10:06:15.915260Z",
     "iopub.status.busy": "2022-01-20T10:06:15.914514Z",
     "iopub.status.idle": "2022-01-20T10:06:15.957449Z",
     "shell.execute_reply": "2022-01-20T10:06:15.957859Z",
     "shell.execute_reply.started": "2022-01-20T09:00:14.439683Z"
    },
    "papermill": {
     "duration": 0.090004,
     "end_time": "2022-01-20T10:06:15.957987",
     "exception": false,
     "start_time": "2022-01-20T10:06:15.867983",
     "status": "completed"
    },
    "tags": []
   },
   "outputs": [
    {
     "data": {
      "text/html": [
       "<div>\n",
       "<style scoped>\n",
       "    .dataframe tbody tr th:only-of-type {\n",
       "        vertical-align: middle;\n",
       "    }\n",
       "\n",
       "    .dataframe tbody tr th {\n",
       "        vertical-align: top;\n",
       "    }\n",
       "\n",
       "    .dataframe thead th {\n",
       "        text-align: right;\n",
       "    }\n",
       "</style>\n",
       "<table border=\"1\" class=\"dataframe\">\n",
       "  <thead>\n",
       "    <tr style=\"text-align: right;\">\n",
       "      <th></th>\n",
       "      <th>car_path</th>\n",
       "    </tr>\n",
       "    <tr>\n",
       "      <th>id</th>\n",
       "      <th></th>\n",
       "    </tr>\n",
       "  </thead>\n",
       "  <tbody>\n",
       "    <tr>\n",
       "      <th>154ee2b6d27a_06</th>\n",
       "      <td>/kaggle/working/train/154ee2b6d27a_06.jpg</td>\n",
       "    </tr>\n",
       "    <tr>\n",
       "      <th>78bfb9c780db_12</th>\n",
       "      <td>/kaggle/working/train/78bfb9c780db_12.jpg</td>\n",
       "    </tr>\n",
       "    <tr>\n",
       "      <th>3afec4b5ac07_05</th>\n",
       "      <td>/kaggle/working/train/3afec4b5ac07_05.jpg</td>\n",
       "    </tr>\n",
       "    <tr>\n",
       "      <th>feaf59172a01_07</th>\n",
       "      <td>/kaggle/working/train/feaf59172a01_07.jpg</td>\n",
       "    </tr>\n",
       "    <tr>\n",
       "      <th>bad53871c7d9_06</th>\n",
       "      <td>/kaggle/working/train/bad53871c7d9_06.jpg</td>\n",
       "    </tr>\n",
       "    <tr>\n",
       "      <th>...</th>\n",
       "      <td>...</td>\n",
       "    </tr>\n",
       "    <tr>\n",
       "      <th>a56f923399ca_10</th>\n",
       "      <td>/kaggle/working/train/a56f923399ca_10.jpg</td>\n",
       "    </tr>\n",
       "    <tr>\n",
       "      <th>351c583eabd6_04</th>\n",
       "      <td>/kaggle/working/train/351c583eabd6_04.jpg</td>\n",
       "    </tr>\n",
       "    <tr>\n",
       "      <th>0d1a9caf4350_15</th>\n",
       "      <td>/kaggle/working/train/0d1a9caf4350_15.jpg</td>\n",
       "    </tr>\n",
       "    <tr>\n",
       "      <th>0d3adbbc9a8b_07</th>\n",
       "      <td>/kaggle/working/train/0d3adbbc9a8b_07.jpg</td>\n",
       "    </tr>\n",
       "    <tr>\n",
       "      <th>293a0fa72e5b_02</th>\n",
       "      <td>/kaggle/working/train/293a0fa72e5b_02.jpg</td>\n",
       "    </tr>\n",
       "  </tbody>\n",
       "</table>\n",
       "<p>5088 rows × 1 columns</p>\n",
       "</div>"
      ],
      "text/plain": [
       "                                                  car_path\n",
       "id                                                        \n",
       "154ee2b6d27a_06  /kaggle/working/train/154ee2b6d27a_06.jpg\n",
       "78bfb9c780db_12  /kaggle/working/train/78bfb9c780db_12.jpg\n",
       "3afec4b5ac07_05  /kaggle/working/train/3afec4b5ac07_05.jpg\n",
       "feaf59172a01_07  /kaggle/working/train/feaf59172a01_07.jpg\n",
       "bad53871c7d9_06  /kaggle/working/train/bad53871c7d9_06.jpg\n",
       "...                                                    ...\n",
       "a56f923399ca_10  /kaggle/working/train/a56f923399ca_10.jpg\n",
       "351c583eabd6_04  /kaggle/working/train/351c583eabd6_04.jpg\n",
       "0d1a9caf4350_15  /kaggle/working/train/0d1a9caf4350_15.jpg\n",
       "0d3adbbc9a8b_07  /kaggle/working/train/0d3adbbc9a8b_07.jpg\n",
       "293a0fa72e5b_02  /kaggle/working/train/293a0fa72e5b_02.jpg\n",
       "\n",
       "[5088 rows x 1 columns]"
      ]
     },
     "execution_count": 6,
     "metadata": {},
     "output_type": "execute_result"
    }
   ],
   "source": [
    "car_ids = []\n",
    "paths = []\n",
    "for dirname, _, filenames in os.walk('/kaggle/working/train'):\n",
    "    for filename in filenames:#images in train folder\n",
    "        path = os.path.join(dirname, filename)    \n",
    "        paths.append(path)#images address\n",
    "        \n",
    "        car_id = filename.split(\".\")[0]\n",
    "        car_ids.append(car_id) #id of train images\n",
    "\n",
    "d = {\"id\": car_ids, \"car_path\": paths}\n",
    "df = pd.DataFrame(data = d)\n",
    "df = df.set_index('id') # df containing path to each training image and image unique name as index\n",
    "df"
   ]
  },
  {
   "cell_type": "code",
   "execution_count": 7,
   "id": "b525a2a0",
   "metadata": {
    "execution": {
     "iopub.execute_input": "2022-01-20T10:06:16.046958Z",
     "iopub.status.busy": "2022-01-20T10:06:16.046204Z",
     "iopub.status.idle": "2022-01-20T10:06:16.075222Z",
     "shell.execute_reply": "2022-01-20T10:06:16.075677Z",
     "shell.execute_reply.started": "2022-01-20T09:00:14.489496Z"
    },
    "papermill": {
     "duration": 0.076998,
     "end_time": "2022-01-20T10:06:16.075807",
     "exception": false,
     "start_time": "2022-01-20T10:06:15.998809",
     "status": "completed"
    },
    "tags": []
   },
   "outputs": [
    {
     "data": {
      "text/html": [
       "<div>\n",
       "<style scoped>\n",
       "    .dataframe tbody tr th:only-of-type {\n",
       "        vertical-align: middle;\n",
       "    }\n",
       "\n",
       "    .dataframe tbody tr th {\n",
       "        vertical-align: top;\n",
       "    }\n",
       "\n",
       "    .dataframe thead th {\n",
       "        text-align: right;\n",
       "    }\n",
       "</style>\n",
       "<table border=\"1\" class=\"dataframe\">\n",
       "  <thead>\n",
       "    <tr style=\"text-align: right;\">\n",
       "      <th></th>\n",
       "      <th>mask_path</th>\n",
       "    </tr>\n",
       "    <tr>\n",
       "      <th>id</th>\n",
       "      <th></th>\n",
       "    </tr>\n",
       "  </thead>\n",
       "  <tbody>\n",
       "    <tr>\n",
       "      <th>fff9b3a5373f_02</th>\n",
       "      <td>/kaggle/working/train_masks/fff9b3a5373f_02_ma...</td>\n",
       "    </tr>\n",
       "    <tr>\n",
       "      <th>d1a3af34e674_08</th>\n",
       "      <td>/kaggle/working/train_masks/d1a3af34e674_08_ma...</td>\n",
       "    </tr>\n",
       "    <tr>\n",
       "      <th>0ed6904e1004_16</th>\n",
       "      <td>/kaggle/working/train_masks/0ed6904e1004_16_ma...</td>\n",
       "    </tr>\n",
       "    <tr>\n",
       "      <th>2cb91c2543fa_15</th>\n",
       "      <td>/kaggle/working/train_masks/2cb91c2543fa_15_ma...</td>\n",
       "    </tr>\n",
       "    <tr>\n",
       "      <th>bd8d5780ed04_01</th>\n",
       "      <td>/kaggle/working/train_masks/bd8d5780ed04_01_ma...</td>\n",
       "    </tr>\n",
       "    <tr>\n",
       "      <th>...</th>\n",
       "      <td>...</td>\n",
       "    </tr>\n",
       "    <tr>\n",
       "      <th>c87688f6960e_10</th>\n",
       "      <td>/kaggle/working/train_masks/c87688f6960e_10_ma...</td>\n",
       "    </tr>\n",
       "    <tr>\n",
       "      <th>880ab8468df2_08</th>\n",
       "      <td>/kaggle/working/train_masks/880ab8468df2_08_ma...</td>\n",
       "    </tr>\n",
       "    <tr>\n",
       "      <th>40851e617b93_12</th>\n",
       "      <td>/kaggle/working/train_masks/40851e617b93_12_ma...</td>\n",
       "    </tr>\n",
       "    <tr>\n",
       "      <th>f98dbe8a5ee2_09</th>\n",
       "      <td>/kaggle/working/train_masks/f98dbe8a5ee2_09_ma...</td>\n",
       "    </tr>\n",
       "    <tr>\n",
       "      <th>69915dab0755_09</th>\n",
       "      <td>/kaggle/working/train_masks/69915dab0755_09_ma...</td>\n",
       "    </tr>\n",
       "  </tbody>\n",
       "</table>\n",
       "<p>5088 rows × 1 columns</p>\n",
       "</div>"
      ],
      "text/plain": [
       "                                                         mask_path\n",
       "id                                                                \n",
       "fff9b3a5373f_02  /kaggle/working/train_masks/fff9b3a5373f_02_ma...\n",
       "d1a3af34e674_08  /kaggle/working/train_masks/d1a3af34e674_08_ma...\n",
       "0ed6904e1004_16  /kaggle/working/train_masks/0ed6904e1004_16_ma...\n",
       "2cb91c2543fa_15  /kaggle/working/train_masks/2cb91c2543fa_15_ma...\n",
       "bd8d5780ed04_01  /kaggle/working/train_masks/bd8d5780ed04_01_ma...\n",
       "...                                                            ...\n",
       "c87688f6960e_10  /kaggle/working/train_masks/c87688f6960e_10_ma...\n",
       "880ab8468df2_08  /kaggle/working/train_masks/880ab8468df2_08_ma...\n",
       "40851e617b93_12  /kaggle/working/train_masks/40851e617b93_12_ma...\n",
       "f98dbe8a5ee2_09  /kaggle/working/train_masks/f98dbe8a5ee2_09_ma...\n",
       "69915dab0755_09  /kaggle/working/train_masks/69915dab0755_09_ma...\n",
       "\n",
       "[5088 rows x 1 columns]"
      ]
     },
     "execution_count": 7,
     "metadata": {},
     "output_type": "execute_result"
    }
   ],
   "source": [
    "car_ids = []\n",
    "mask_path = []\n",
    "for dirname, _, filenames in os.walk('/kaggle/working/train_masks'):\n",
    "    for filename in filenames: #contents of train_mask folder\n",
    "        path = os.path.join(dirname, filename)\n",
    "        mask_path.append(path)  #\n",
    "        \n",
    "        car_id = filename.split(\".\")[0]\n",
    "        car_id = car_id.split(\"_mask\")[0]\n",
    "        car_ids.append(car_id)\n",
    "\n",
    "        \n",
    "d = {\"id\": car_ids,\"mask_path\": mask_path}\n",
    "mask_df = pd.DataFrame(data = d)\n",
    "mask_df = mask_df.set_index('id') #containg path to masks of train data and unique id if images as index \n",
    "mask_df"
   ]
  },
  {
   "cell_type": "code",
   "execution_count": 8,
   "id": "d9053548",
   "metadata": {
    "execution": {
     "iopub.execute_input": "2022-01-20T10:06:16.161277Z",
     "iopub.status.busy": "2022-01-20T10:06:16.160729Z",
     "iopub.status.idle": "2022-01-20T10:06:16.164409Z",
     "shell.execute_reply": "2022-01-20T10:06:16.163961Z",
     "shell.execute_reply.started": "2022-01-20T09:00:14.528149Z"
    },
    "papermill": {
     "duration": 0.048423,
     "end_time": "2022-01-20T10:06:16.164521",
     "exception": false,
     "start_time": "2022-01-20T10:06:16.116098",
     "status": "completed"
    },
    "tags": []
   },
   "outputs": [
    {
     "data": {
      "text/plain": [
       "'/kaggle/working/train_masks/fff9b3a5373f_02_mask.gif'"
      ]
     },
     "execution_count": 8,
     "metadata": {},
     "output_type": "execute_result"
    }
   ],
   "source": [
    "mask_df[\"mask_path\"][0]"
   ]
  },
  {
   "cell_type": "code",
   "execution_count": 9,
   "id": "cbb2e8e0",
   "metadata": {
    "execution": {
     "iopub.execute_input": "2022-01-20T10:06:16.257047Z",
     "iopub.status.busy": "2022-01-20T10:06:16.256211Z",
     "iopub.status.idle": "2022-01-20T10:06:16.267446Z",
     "shell.execute_reply": "2022-01-20T10:06:16.266939Z",
     "shell.execute_reply.started": "2022-01-20T09:00:14.539835Z"
    },
    "papermill": {
     "duration": 0.061438,
     "end_time": "2022-01-20T10:06:16.267570",
     "exception": false,
     "start_time": "2022-01-20T10:06:16.206132",
     "status": "completed"
    },
    "tags": []
   },
   "outputs": [
    {
     "data": {
      "text/html": [
       "<div>\n",
       "<style scoped>\n",
       "    .dataframe tbody tr th:only-of-type {\n",
       "        vertical-align: middle;\n",
       "    }\n",
       "\n",
       "    .dataframe tbody tr th {\n",
       "        vertical-align: top;\n",
       "    }\n",
       "\n",
       "    .dataframe thead th {\n",
       "        text-align: right;\n",
       "    }\n",
       "</style>\n",
       "<table border=\"1\" class=\"dataframe\">\n",
       "  <thead>\n",
       "    <tr style=\"text-align: right;\">\n",
       "      <th></th>\n",
       "      <th>car_path</th>\n",
       "      <th>mask_path</th>\n",
       "    </tr>\n",
       "    <tr>\n",
       "      <th>id</th>\n",
       "      <th></th>\n",
       "      <th></th>\n",
       "    </tr>\n",
       "  </thead>\n",
       "  <tbody>\n",
       "    <tr>\n",
       "      <th>154ee2b6d27a_06</th>\n",
       "      <td>/kaggle/working/train/154ee2b6d27a_06.jpg</td>\n",
       "      <td>/kaggle/working/train_masks/154ee2b6d27a_06_ma...</td>\n",
       "    </tr>\n",
       "    <tr>\n",
       "      <th>78bfb9c780db_12</th>\n",
       "      <td>/kaggle/working/train/78bfb9c780db_12.jpg</td>\n",
       "      <td>/kaggle/working/train_masks/78bfb9c780db_12_ma...</td>\n",
       "    </tr>\n",
       "    <tr>\n",
       "      <th>3afec4b5ac07_05</th>\n",
       "      <td>/kaggle/working/train/3afec4b5ac07_05.jpg</td>\n",
       "      <td>/kaggle/working/train_masks/3afec4b5ac07_05_ma...</td>\n",
       "    </tr>\n",
       "    <tr>\n",
       "      <th>feaf59172a01_07</th>\n",
       "      <td>/kaggle/working/train/feaf59172a01_07.jpg</td>\n",
       "      <td>/kaggle/working/train_masks/feaf59172a01_07_ma...</td>\n",
       "    </tr>\n",
       "    <tr>\n",
       "      <th>bad53871c7d9_06</th>\n",
       "      <td>/kaggle/working/train/bad53871c7d9_06.jpg</td>\n",
       "      <td>/kaggle/working/train_masks/bad53871c7d9_06_ma...</td>\n",
       "    </tr>\n",
       "    <tr>\n",
       "      <th>...</th>\n",
       "      <td>...</td>\n",
       "      <td>...</td>\n",
       "    </tr>\n",
       "    <tr>\n",
       "      <th>a56f923399ca_10</th>\n",
       "      <td>/kaggle/working/train/a56f923399ca_10.jpg</td>\n",
       "      <td>/kaggle/working/train_masks/a56f923399ca_10_ma...</td>\n",
       "    </tr>\n",
       "    <tr>\n",
       "      <th>351c583eabd6_04</th>\n",
       "      <td>/kaggle/working/train/351c583eabd6_04.jpg</td>\n",
       "      <td>/kaggle/working/train_masks/351c583eabd6_04_ma...</td>\n",
       "    </tr>\n",
       "    <tr>\n",
       "      <th>0d1a9caf4350_15</th>\n",
       "      <td>/kaggle/working/train/0d1a9caf4350_15.jpg</td>\n",
       "      <td>/kaggle/working/train_masks/0d1a9caf4350_15_ma...</td>\n",
       "    </tr>\n",
       "    <tr>\n",
       "      <th>0d3adbbc9a8b_07</th>\n",
       "      <td>/kaggle/working/train/0d3adbbc9a8b_07.jpg</td>\n",
       "      <td>/kaggle/working/train_masks/0d3adbbc9a8b_07_ma...</td>\n",
       "    </tr>\n",
       "    <tr>\n",
       "      <th>293a0fa72e5b_02</th>\n",
       "      <td>/kaggle/working/train/293a0fa72e5b_02.jpg</td>\n",
       "      <td>/kaggle/working/train_masks/293a0fa72e5b_02_ma...</td>\n",
       "    </tr>\n",
       "  </tbody>\n",
       "</table>\n",
       "<p>5088 rows × 2 columns</p>\n",
       "</div>"
      ],
      "text/plain": [
       "                                                  car_path  \\\n",
       "id                                                           \n",
       "154ee2b6d27a_06  /kaggle/working/train/154ee2b6d27a_06.jpg   \n",
       "78bfb9c780db_12  /kaggle/working/train/78bfb9c780db_12.jpg   \n",
       "3afec4b5ac07_05  /kaggle/working/train/3afec4b5ac07_05.jpg   \n",
       "feaf59172a01_07  /kaggle/working/train/feaf59172a01_07.jpg   \n",
       "bad53871c7d9_06  /kaggle/working/train/bad53871c7d9_06.jpg   \n",
       "...                                                    ...   \n",
       "a56f923399ca_10  /kaggle/working/train/a56f923399ca_10.jpg   \n",
       "351c583eabd6_04  /kaggle/working/train/351c583eabd6_04.jpg   \n",
       "0d1a9caf4350_15  /kaggle/working/train/0d1a9caf4350_15.jpg   \n",
       "0d3adbbc9a8b_07  /kaggle/working/train/0d3adbbc9a8b_07.jpg   \n",
       "293a0fa72e5b_02  /kaggle/working/train/293a0fa72e5b_02.jpg   \n",
       "\n",
       "                                                         mask_path  \n",
       "id                                                                  \n",
       "154ee2b6d27a_06  /kaggle/working/train_masks/154ee2b6d27a_06_ma...  \n",
       "78bfb9c780db_12  /kaggle/working/train_masks/78bfb9c780db_12_ma...  \n",
       "3afec4b5ac07_05  /kaggle/working/train_masks/3afec4b5ac07_05_ma...  \n",
       "feaf59172a01_07  /kaggle/working/train_masks/feaf59172a01_07_ma...  \n",
       "bad53871c7d9_06  /kaggle/working/train_masks/bad53871c7d9_06_ma...  \n",
       "...                                                            ...  \n",
       "a56f923399ca_10  /kaggle/working/train_masks/a56f923399ca_10_ma...  \n",
       "351c583eabd6_04  /kaggle/working/train_masks/351c583eabd6_04_ma...  \n",
       "0d1a9caf4350_15  /kaggle/working/train_masks/0d1a9caf4350_15_ma...  \n",
       "0d3adbbc9a8b_07  /kaggle/working/train_masks/0d3adbbc9a8b_07_ma...  \n",
       "293a0fa72e5b_02  /kaggle/working/train_masks/293a0fa72e5b_02_ma...  \n",
       "\n",
       "[5088 rows x 2 columns]"
      ]
     },
     "execution_count": 9,
     "metadata": {},
     "output_type": "execute_result"
    }
   ],
   "source": [
    "df[\"mask_path\"] = mask_df[\"mask_path\"]#putting image path and mask path in a single dataframe\n",
    "df"
   ]
  },
  {
   "cell_type": "markdown",
   "id": "cd83c2ad",
   "metadata": {
    "papermill": {
     "duration": 0.041416,
     "end_time": "2022-01-20T10:06:16.350440",
     "exception": false,
     "start_time": "2022-01-20T10:06:16.309024",
     "status": "completed"
    },
    "tags": []
   },
   "source": [
    "## functions for preprocessing of data to make it ready for training models"
   ]
  },
  {
   "cell_type": "code",
   "execution_count": 10,
   "id": "d18ae77e",
   "metadata": {
    "execution": {
     "iopub.execute_input": "2022-01-20T10:06:16.444449Z",
     "iopub.status.busy": "2022-01-20T10:06:16.443537Z",
     "iopub.status.idle": "2022-01-20T10:06:16.445273Z",
     "shell.execute_reply": "2022-01-20T10:06:16.445782Z",
     "shell.execute_reply.started": "2022-01-20T09:00:14.558566Z"
    },
    "papermill": {
     "duration": 0.054091,
     "end_time": "2022-01-20T10:06:16.445915",
     "exception": false,
     "start_time": "2022-01-20T10:06:16.391824",
     "status": "completed"
    },
    "tags": []
   },
   "outputs": [],
   "source": [
    "img_size = [64,64]\n",
    "\n",
    "def data_augmentation(car_img, mask_img):# few data augmentation methods\n",
    "\n",
    "    if tf.random.uniform(()) > 0.5:#generatin a random condition wih random number between 0 and 1 \n",
    "        car_img = tf.image.flip_left_right(car_img)#flipping image from left to right\n",
    "        mask_img = tf.image.flip_left_right(mask_img)#flipping image masks from left to right\n",
    "\n",
    "    return car_img, mask_img\n",
    "\n",
    "def preprocessing(car_path, mask_path):\n",
    "    car_img = tf.io.read_file(car_path) #reading train image path\n",
    "    car_img = tf.image.decode_jpeg(car_img, channels=3) #coverting from scalar string tensor to  3d uint8\n",
    "    car_img = tf.image.resize(car_img, img_size) #resizing it ti use it more conviniently \n",
    "    car_img = tf.cast(car_img, tf.float32) / 255.0 # normalizing the pixel values between 0 to 1\n",
    "    \n",
    "    mask_img = tf.io.read_file(mask_path)#reading mask path\n",
    "    mask_img = tf.image.decode_jpeg(mask_img, channels=3)\n",
    "    mask_img = tf.image.resize(mask_img, img_size)\n",
    "    mask_img = mask_img[:,:,:1]  #taking use of only one channel  \n",
    "    mask_img = tf.math.sign(mask_img)\n",
    "    \n",
    "    \n",
    "    return car_img, mask_img\n",
    "def create_dataset(df, train = False):\n",
    "    if not train:\n",
    "        ds = tf.data.Dataset.from_tensor_slices((df[\"car_path\"].values, df[\"mask_path\"].values))#taking path as object\n",
    "        ds = ds.map(preprocessing, tf.data.AUTOTUNE) #mapping masks to preproessing function\n",
    "    else:\n",
    "        ds = tf.data.Dataset.from_tensor_slices((df[\"car_path\"].values, df[\"mask_path\"].values))\n",
    "        ds = ds.map(preprocessing, tf.data.AUTOTUNE) # mapping images to preprocessing function\n",
    "        ds = ds.map(data_augmentation, tf.data.AUTOTUNE)# mapping images to data_augmemtation function\n",
    "\n",
    "    return ds"
   ]
  },
  {
   "cell_type": "code",
   "execution_count": 11,
   "id": "5d4c4088",
   "metadata": {
    "execution": {
     "iopub.execute_input": "2022-01-20T10:06:16.534622Z",
     "iopub.status.busy": "2022-01-20T10:06:16.533530Z",
     "iopub.status.idle": "2022-01-20T10:06:16.536542Z",
     "shell.execute_reply": "2022-01-20T10:06:16.536949Z",
     "shell.execute_reply.started": "2022-01-20T09:00:14.574304Z"
    },
    "papermill": {
     "duration": 0.05039,
     "end_time": "2022-01-20T10:06:16.537074",
     "exception": false,
     "start_time": "2022-01-20T10:06:16.486684",
     "status": "completed"
    },
    "tags": []
   },
   "outputs": [
    {
     "data": {
      "text/plain": [
       "Index(['car_path', 'mask_path'], dtype='object')"
      ]
     },
     "execution_count": 11,
     "metadata": {},
     "output_type": "execute_result"
    }
   ],
   "source": [
    "df.columns"
   ]
  },
  {
   "cell_type": "code",
   "execution_count": 12,
   "id": "a0637c80",
   "metadata": {
    "execution": {
     "iopub.execute_input": "2022-01-20T10:06:16.623387Z",
     "iopub.status.busy": "2022-01-20T10:06:16.622863Z",
     "iopub.status.idle": "2022-01-20T10:06:16.661539Z",
     "shell.execute_reply": "2022-01-20T10:06:16.661069Z",
     "shell.execute_reply.started": "2022-01-20T09:00:14.590425Z"
    },
    "papermill": {
     "duration": 0.083647,
     "end_time": "2022-01-20T10:06:16.661665",
     "exception": false,
     "start_time": "2022-01-20T10:06:16.578018",
     "status": "completed"
    },
    "tags": []
   },
   "outputs": [],
   "source": [
    "sh = plt.imread(df[\"mask_path\"][0]).shape # real shape of mask \n",
    "mask_h = sh[0]#real height of mask images\n",
    "mask_w = sh[1]#real width of mask images"
   ]
  },
  {
   "cell_type": "code",
   "execution_count": 13,
   "id": "48bbbd40",
   "metadata": {
    "execution": {
     "iopub.execute_input": "2022-01-20T10:06:16.751618Z",
     "iopub.status.busy": "2022-01-20T10:06:16.750961Z",
     "iopub.status.idle": "2022-01-20T10:06:16.753577Z",
     "shell.execute_reply": "2022-01-20T10:06:16.753976Z",
     "shell.execute_reply.started": "2022-01-20T09:44:20.091972Z"
    },
    "papermill": {
     "duration": 0.049931,
     "end_time": "2022-01-20T10:06:16.754098",
     "exception": false,
     "start_time": "2022-01-20T10:06:16.704167",
     "status": "completed"
    },
    "tags": []
   },
   "outputs": [
    {
     "data": {
      "text/plain": [
       "1280"
      ]
     },
     "execution_count": 13,
     "metadata": {},
     "output_type": "execute_result"
    }
   ],
   "source": [
    "mask_h "
   ]
  },
  {
   "cell_type": "code",
   "execution_count": 14,
   "id": "3b9ba114",
   "metadata": {
    "execution": {
     "iopub.execute_input": "2022-01-20T10:06:16.845264Z",
     "iopub.status.busy": "2022-01-20T10:06:16.840125Z",
     "iopub.status.idle": "2022-01-20T10:06:19.320563Z",
     "shell.execute_reply": "2022-01-20T10:06:19.320989Z",
     "shell.execute_reply.started": "2022-01-20T09:00:14.636454Z"
    },
    "papermill": {
     "duration": 2.525097,
     "end_time": "2022-01-20T10:06:19.321131",
     "exception": false,
     "start_time": "2022-01-20T10:06:16.796034",
     "status": "completed"
    },
    "tags": []
   },
   "outputs": [
    {
     "name": "stderr",
     "output_type": "stream",
     "text": [
      "2022-01-20 10:06:16.898808: I tensorflow/stream_executor/cuda/cuda_gpu_executor.cc:937] successful NUMA node read from SysFS had negative value (-1), but there must be at least one NUMA node, so returning NUMA node zero\n",
      "2022-01-20 10:06:16.998125: I tensorflow/stream_executor/cuda/cuda_gpu_executor.cc:937] successful NUMA node read from SysFS had negative value (-1), but there must be at least one NUMA node, so returning NUMA node zero\n",
      "2022-01-20 10:06:16.998866: I tensorflow/stream_executor/cuda/cuda_gpu_executor.cc:937] successful NUMA node read from SysFS had negative value (-1), but there must be at least one NUMA node, so returning NUMA node zero\n",
      "2022-01-20 10:06:17.001685: I tensorflow/core/platform/cpu_feature_guard.cc:142] This TensorFlow binary is optimized with oneAPI Deep Neural Network Library (oneDNN) to use the following CPU instructions in performance-critical operations:  AVX2 AVX512F FMA\n",
      "To enable them in other operations, rebuild TensorFlow with the appropriate compiler flags.\n",
      "2022-01-20 10:06:17.002582: I tensorflow/stream_executor/cuda/cuda_gpu_executor.cc:937] successful NUMA node read from SysFS had negative value (-1), but there must be at least one NUMA node, so returning NUMA node zero\n",
      "2022-01-20 10:06:17.003259: I tensorflow/stream_executor/cuda/cuda_gpu_executor.cc:937] successful NUMA node read from SysFS had negative value (-1), but there must be at least one NUMA node, so returning NUMA node zero\n",
      "2022-01-20 10:06:17.003896: I tensorflow/stream_executor/cuda/cuda_gpu_executor.cc:937] successful NUMA node read from SysFS had negative value (-1), but there must be at least one NUMA node, so returning NUMA node zero\n",
      "2022-01-20 10:06:18.799051: I tensorflow/stream_executor/cuda/cuda_gpu_executor.cc:937] successful NUMA node read from SysFS had negative value (-1), but there must be at least one NUMA node, so returning NUMA node zero\n",
      "2022-01-20 10:06:18.799887: I tensorflow/stream_executor/cuda/cuda_gpu_executor.cc:937] successful NUMA node read from SysFS had negative value (-1), but there must be at least one NUMA node, so returning NUMA node zero\n",
      "2022-01-20 10:06:18.800722: I tensorflow/stream_executor/cuda/cuda_gpu_executor.cc:937] successful NUMA node read from SysFS had negative value (-1), but there must be at least one NUMA node, so returning NUMA node zero\n",
      "2022-01-20 10:06:18.801344: I tensorflow/core/common_runtime/gpu/gpu_device.cc:1510] Created device /job:localhost/replica:0/task:0/device:GPU:0 with 15403 MB memory:  -> device: 0, name: Tesla P100-PCIE-16GB, pci bus id: 0000:00:04.0, compute capability: 6.0\n"
     ]
    }
   ],
   "source": [
    "train_df, valid_df = train_test_split(df, random_state=42, test_size=.25)# splitting given labelled data into train and valid \n",
    "train = create_dataset(train_df, train = True)# train dataset\n",
    "valid = create_dataset(valid_df)# valid dataset"
   ]
  },
  {
   "cell_type": "code",
   "execution_count": 15,
   "id": "df8bdb69",
   "metadata": {
    "execution": {
     "iopub.execute_input": "2022-01-20T10:06:19.409596Z",
     "iopub.status.busy": "2022-01-20T10:06:19.408553Z",
     "iopub.status.idle": "2022-01-20T10:06:19.410358Z",
     "shell.execute_reply": "2022-01-20T10:06:19.410878Z",
     "shell.execute_reply.started": "2022-01-20T09:00:17.465428Z"
    },
    "papermill": {
     "duration": 0.047885,
     "end_time": "2022-01-20T10:06:19.411012",
     "exception": false,
     "start_time": "2022-01-20T10:06:19.363127",
     "status": "completed"
    },
    "tags": []
   },
   "outputs": [],
   "source": [
    "TRAIN_LENGTH = len(train_df)#length if train dataset\n",
    "BATCH_SIZE = 16 # batch size to train images \n",
    "BUFFER_SIZE = 1000 #"
   ]
  },
  {
   "cell_type": "code",
   "execution_count": 16,
   "id": "7ac0f017",
   "metadata": {
    "execution": {
     "iopub.execute_input": "2022-01-20T10:06:19.501577Z",
     "iopub.status.busy": "2022-01-20T10:06:19.500666Z",
     "iopub.status.idle": "2022-01-20T10:06:19.516903Z",
     "shell.execute_reply": "2022-01-20T10:06:19.516375Z",
     "shell.execute_reply.started": "2022-01-20T09:00:17.471545Z"
    },
    "papermill": {
     "duration": 0.064483,
     "end_time": "2022-01-20T10:06:19.517041",
     "exception": false,
     "start_time": "2022-01-20T10:06:19.452558",
     "status": "completed"
    },
    "tags": []
   },
   "outputs": [],
   "source": [
    "train_dataset = train.cache().shuffle(BUFFER_SIZE).batch(BATCH_SIZE).repeat() # shuffing and batching records\n",
    "train_dataset = train_dataset.prefetch(buffer_size=tf.data.AUTOTUNE) #fetching data to train\n",
    "valid_dataset = valid.batch(BATCH_SIZE)"
   ]
  },
  {
   "cell_type": "code",
   "execution_count": 17,
   "id": "3d6231bd",
   "metadata": {
    "execution": {
     "iopub.execute_input": "2022-01-20T10:06:19.619072Z",
     "iopub.status.busy": "2022-01-20T10:06:19.618221Z",
     "iopub.status.idle": "2022-01-20T10:06:19.620104Z",
     "shell.execute_reply": "2022-01-20T10:06:19.620544Z",
     "shell.execute_reply.started": "2022-01-20T09:00:17.489689Z"
    },
    "papermill": {
     "duration": 0.053461,
     "end_time": "2022-01-20T10:06:19.620689",
     "exception": false,
     "start_time": "2022-01-20T10:06:19.567228",
     "status": "completed"
    },
    "tags": []
   },
   "outputs": [],
   "source": [
    "def display(display_list): # function for visualizing  images\n",
    "    plt.figure(figsize=(10, 10)) #size of plot\n",
    "\n",
    "    title = ['Input Image', 'True Mask', 'Predicted Mask'] #possible images\n",
    "\n",
    "    for i in range(len(display_list)): \n",
    "        plt.subplot(1, len(display_list), i+1) #image, true_mask, predicted_mask\n",
    "        plt.title(title[i])\n",
    "        plt.imshow(tf.keras.preprocessing.image.array_to_img(display_list[i])) #function to show images\n",
    "        plt.axis('off')\n",
    "    plt.show()"
   ]
  },
  {
   "cell_type": "code",
   "execution_count": 18,
   "id": "3461843e",
   "metadata": {
    "execution": {
     "iopub.execute_input": "2022-01-20T10:06:19.714957Z",
     "iopub.status.busy": "2022-01-20T10:06:19.714356Z",
     "iopub.status.idle": "2022-01-20T10:06:23.540566Z",
     "shell.execute_reply": "2022-01-20T10:06:23.540070Z",
     "shell.execute_reply.started": "2022-01-20T09:00:17.501093Z"
    },
    "papermill": {
     "duration": 3.876326,
     "end_time": "2022-01-20T10:06:23.540696",
     "exception": false,
     "start_time": "2022-01-20T10:06:19.664370",
     "status": "completed"
    },
    "tags": []
   },
   "outputs": [
    {
     "name": "stderr",
     "output_type": "stream",
     "text": [
      "2022-01-20 10:06:19.756901: I tensorflow/compiler/mlir/mlir_graph_optimization_pass.cc:185] None of the MLIR Optimization Passes are enabled (registered 2)\n"
     ]
    },
    {
     "name": "stdout",
     "output_type": "stream",
     "text": [
      "(64, 64, 3)\n"
     ]
    },
    {
     "data": {
      "image/png": "[encoded data removed]",
      "text/plain": [
       "<Figure size 720x720 with 2 Axes>"
      ]
     },
     "metadata": {
      "needs_background": "light"
     },
     "output_type": "display_data"
    },
    {
     "name": "stdout",
     "output_type": "stream",
     "text": [
      "(64, 64, 3)\n"
     ]
    },
    {
     "data": {
      "image/png": "[encoded data removed]",
      "text/plain": [
       "<Figure size 720x720 with 2 Axes>"
      ]
     },
     "metadata": {
      "needs_background": "light"
     },
     "output_type": "display_data"
    },
    {
     "name": "stdout",
     "output_type": "stream",
     "text": [
      "(64, 64, 3)\n"
     ]
    },
    {
     "data": {
      "image/png": "[encoded data removed]",
      "text/plain": [
       "<Figure size 720x720 with 2 Axes>"
      ]
     },
     "metadata": {
      "needs_background": "light"
     },
     "output_type": "display_data"
    },
    {
     "name": "stdout",
     "output_type": "stream",
     "text": [
      "(64, 64, 3)\n"
     ]
    },
    {
     "data": {
      "image/png": "[encoded data removed]",
      "text/plain": [
       "<Figure size 720x720 with 2 Axes>"
      ]
     },
     "metadata": {
      "needs_background": "light"
     },
     "output_type": "display_data"
    },
    {
     "name": "stdout",
     "output_type": "stream",
     "text": [
      "(64, 64, 3)\n"
     ]
    },
    {
     "data": {
      "image/png": "[encoded data removed]",
      "text/plain": [
       "<Figure size 720x720 with 2 Axes>"
      ]
     },
     "metadata": {
      "needs_background": "light"
     },
     "output_type": "display_data"
    },
    {
     "name": "stdout",
     "output_type": "stream",
     "text": [
      "(64, 64, 3)\n"
     ]
    },
    {
     "data": {
      "image/png": "[encoded data removed]",
      "text/plain": [
       "<Figure size 720x720 with 2 Axes>"
      ]
     },
     "metadata": {
      "needs_background": "light"
     },
     "output_type": "display_data"
    },
    {
     "name": "stdout",
     "output_type": "stream",
     "text": [
      "(64, 64, 3)\n"
     ]
    },
    {
     "data": {
      "image/png": "[encoded data removed]",
      "text/plain": [
       "<Figure size 720x720 with 2 Axes>"
      ]
     },
     "metadata": {
      "needs_background": "light"
     },
     "output_type": "display_data"
    },
    {
     "name": "stdout",
     "output_type": "stream",
     "text": [
      "(64, 64, 3)\n"
     ]
    },
    {
     "data": {
      "image/png": "[encoded data removed]",
      "text/plain": [
       "<Figure size 720x720 with 2 Axes>"
      ]
     },
     "metadata": {
      "needs_background": "light"
     },
     "output_type": "display_data"
    },
    {
     "name": "stdout",
     "output_type": "stream",
     "text": [
      "(64, 64, 3)\n"
     ]
    },
    {
     "data": {
      "image/png": "[encoded data removed]",
      "text/plain": [
       "<Figure size 720x720 with 2 Axes>"
      ]
     },
     "metadata": {
      "needs_background": "light"
     },
     "output_type": "display_data"
    },
    {
     "name": "stdout",
     "output_type": "stream",
     "text": [
      "(64, 64, 3)\n"
     ]
    },
    {
     "data": {
      "image/png": "[encoded data removed]",
      "text/plain": [
       "<Figure size 720x720 with 2 Axes>"
      ]
     },
     "metadata": {
      "needs_background": "light"
     },
     "output_type": "display_data"
    }
   ],
   "source": [
    "for i in range(5):\n",
    "   for image, mask in train.take(i): #taking i records\n",
    "        sample_image, sample_mask = image, mask\n",
    "        print(sample_image.shape)\n",
    "        display([sample_image, sample_mask]) #visualizing using above function"
   ]
  },
  {
   "cell_type": "markdown",
   "id": "1f6f2b72",
   "metadata": {
    "papermill": {
     "duration": 0.051975,
     "end_time": "2022-01-20T10:06:23.645685",
     "exception": false,
     "start_time": "2022-01-20T10:06:23.593710",
     "status": "completed"
    },
    "tags": []
   },
   "source": [
    "## creating model"
   ]
  },
  {
   "cell_type": "code",
   "execution_count": 19,
   "id": "2500dcb7",
   "metadata": {
    "execution": {
     "iopub.execute_input": "2022-01-20T10:06:23.757431Z",
     "iopub.status.busy": "2022-01-20T10:06:23.756855Z",
     "iopub.status.idle": "2022-01-20T10:06:23.760584Z",
     "shell.execute_reply": "2022-01-20T10:06:23.760136Z",
     "shell.execute_reply.started": "2022-01-20T09:00:21.936877Z"
    },
    "papermill": {
     "duration": 0.062452,
     "end_time": "2022-01-20T10:06:23.760699",
     "exception": false,
     "start_time": "2022-01-20T10:06:23.698247",
     "status": "completed"
    },
    "tags": []
   },
   "outputs": [],
   "source": [
    "import tensorflow as tf\n",
    "from tensorflow.keras.layers import Input\n",
    "from tensorflow.keras.layers import Conv2D\n",
    "from tensorflow.keras.layers import MaxPooling2D\n",
    "from tensorflow.keras.layers import Dropout \n",
    "from tensorflow.keras.layers import BatchNormalization\n",
    "from tensorflow.keras.layers import Conv2DTranspose\n",
    "from tensorflow.keras.layers import concatenate\n",
    "from tensorflow.keras.losses import binary_crossentropy\n",
    "from sklearn.model_selection import train_test_split"
   ]
  },
  {
   "cell_type": "markdown",
   "id": "2761f51e",
   "metadata": {
    "papermill": {
     "duration": 0.052631,
     "end_time": "2022-01-20T10:06:23.865588",
     "exception": false,
     "start_time": "2022-01-20T10:06:23.812957",
     "status": "completed"
    },
    "tags": []
   },
   "source": []
  },
  {
   "cell_type": "markdown",
   "id": "8d1518f9",
   "metadata": {
    "papermill": {
     "duration": 0.055741,
     "end_time": "2022-01-20T10:06:23.974004",
     "exception": false,
     "start_time": "2022-01-20T10:06:23.918263",
     "status": "completed"
    },
    "tags": []
   },
   "source": [
    "UNet model is particularly good at image segmentation and we are going to make it from scratch.\n",
    "we have to subpart it in two parts. Encoder which will be used for downsampling and decoder will be used for upsampling."
   ]
  },
  {
   "cell_type": "markdown",
   "id": "b8646eba",
   "metadata": {
    "papermill": {
     "duration": 0.054243,
     "end_time": "2022-01-20T10:06:24.084028",
     "exception": false,
     "start_time": "2022-01-20T10:06:24.029785",
     "status": "completed"
    },
    "tags": []
   },
   "source": []
  },
  {
   "cell_type": "markdown",
   "id": "23147099",
   "metadata": {
    "papermill": {
     "duration": 0.05218,
     "end_time": "2022-01-20T10:06:24.189027",
     "exception": false,
     "start_time": "2022-01-20T10:06:24.136847",
     "status": "completed"
    },
    "tags": []
   },
   "source": [
    "The encoder block follows a pattern of using convolution layer two times on the input data and then use maxpooling layer to decrease parameters and computational cost.\n",
    "We can use batch normalization in between layers to regularize their input "
   ]
  },
  {
   "cell_type": "markdown",
   "id": "1879068a",
   "metadata": {
    "papermill": {
     "duration": 0.05296,
     "end_time": "2022-01-20T10:06:24.294053",
     "exception": false,
     "start_time": "2022-01-20T10:06:24.241093",
     "status": "completed"
    },
    "tags": []
   },
   "source": []
  },
  {
   "cell_type": "code",
   "execution_count": 20,
   "id": "c5c16cd3",
   "metadata": {
    "execution": {
     "iopub.execute_input": "2022-01-20T10:06:24.406701Z",
     "iopub.status.busy": "2022-01-20T10:06:24.405924Z",
     "iopub.status.idle": "2022-01-20T10:06:24.408343Z",
     "shell.execute_reply": "2022-01-20T10:06:24.407930Z",
     "shell.execute_reply.started": "2022-01-20T09:00:21.956850Z"
    },
    "papermill": {
     "duration": 0.062307,
     "end_time": "2022-01-20T10:06:24.408463",
     "exception": false,
     "start_time": "2022-01-20T10:06:24.346156",
     "status": "completed"
    },
    "tags": []
   },
   "outputs": [],
   "source": [
    "\n",
    "def EncoderMiniBlock(inputs, n_filters=32, dropout_prob=0.3, max_pooling=True):\n",
    "    \"\"\"\n",
    "    This block uses multiple convolution layers, max pool, relu activation to create an architecture for learning. \n",
    "    Dropout can be added for regularization to prevent overfitting. \n",
    "    The block returns the activation values for next layer along with a skip connection which will be used in the decoder\n",
    "    \"\"\"\n",
    "    # Add 2 Conv Layers with relu activation and HeNormal initialization using TensorFlow \n",
    "    # Proper initialization prevents from the problem of exploding and vanishing gradients \n",
    "    # 'Same' padding will pad the input to conv layer such that the output has the same height and width (hence, is not reduced in size) \n",
    "    conv = Conv2D(n_filters, \n",
    "                  3,   # Kernel size   \n",
    "                  activation='relu',\n",
    "                  padding='same',\n",
    "                  kernel_initializer='HeNormal')(inputs)\n",
    "    conv = Conv2D(n_filters, \n",
    "                  3,   # Kernel size\n",
    "                  activation='relu',\n",
    "                  padding='same',\n",
    "                  kernel_initializer='HeNormal')(conv)\n",
    "    \n",
    "    # Batch Normalization will normalize the output of the last layer based on the batch's mean and standard deviation\n",
    "    conv = BatchNormalization()(conv, training=False)\n",
    "\n",
    "    # In case of overfitting, dropout will regularize the loss and gradient computation to shrink the influence of weights on output\n",
    "    if dropout_prob > 0:     \n",
    "        conv = tf.keras.layers.Dropout(dropout_prob)(conv)\n",
    "\n",
    "    # Pooling reduces the size of the image while keeping the number of channels same\n",
    "    # Pooling has been kept as optional as the last encoder layer does not use pooling (hence, makes the encoder block flexible to use)\n",
    "    # Below, Max pooling considers the maximum of the input slice for output computation and uses stride of 2 to traverse across input image\n",
    "    if max_pooling:\n",
    "        next_layer = tf.keras.layers.MaxPooling2D(pool_size = (2,2))(conv)    \n",
    "    else:\n",
    "        next_layer = conv\n",
    "\n",
    "    # skip connection (without max pooling) will be input to the decoder layer to prevent information loss during transpose convolutions      \n",
    "    skip_connection = conv\n",
    "    \n",
    "    return next_layer, skip_connection\n",
    "\n"
   ]
  },
  {
   "cell_type": "markdown",
   "id": "23fb0856",
   "metadata": {
    "papermill": {
     "duration": 0.052067,
     "end_time": "2022-01-20T10:06:24.512362",
     "exception": false,
     "start_time": "2022-01-20T10:06:24.460295",
     "status": "completed"
    },
    "tags": []
   },
   "source": [
    "Using decoder block to upsample images by using trans convolution on the provided input and merging it with corresponding downsampled layer then applying convolution two times.  "
   ]
  },
  {
   "cell_type": "code",
   "execution_count": 21,
   "id": "410751b6",
   "metadata": {
    "execution": {
     "iopub.execute_input": "2022-01-20T10:06:24.628792Z",
     "iopub.status.busy": "2022-01-20T10:06:24.627162Z",
     "iopub.status.idle": "2022-01-20T10:06:24.629379Z",
     "shell.execute_reply": "2022-01-20T10:06:24.629810Z",
     "shell.execute_reply.started": "2022-01-20T09:00:21.968310Z"
    },
    "papermill": {
     "duration": 0.06186,
     "end_time": "2022-01-20T10:06:24.629958",
     "exception": false,
     "start_time": "2022-01-20T10:06:24.568098",
     "status": "completed"
    },
    "tags": []
   },
   "outputs": [],
   "source": [
    "def DecoderMiniBlock(prev_layer_input, skip_layer_input, n_filters=32):\n",
    "    \"\"\"\n",
    "    Decoder Block first uses transpose convolution to upscale the image to a bigger size and then,\n",
    "    merges the result with skip layer results from encoder block\n",
    "    Adding 2 convolutions with 'same' padding helps further increase the depth of the network for better predictions\n",
    "    The function returns the decoded layer output\n",
    "    \"\"\"\n",
    "    # Start with a transpose convolution layer to first increase the size of the image\n",
    "    up = Conv2DTranspose(\n",
    "                 n_filters,\n",
    "                 (3,3),    # Kernel size\n",
    "                 strides=(2,2),\n",
    "                 padding='same')(prev_layer_input)\n",
    "\n",
    "    # Merge the skip connection from previous block to prevent information loss\n",
    "    merge = concatenate([up, skip_layer_input], axis=3)\n",
    "    \n",
    "    # Add 2 Conv Layers with relu activation and HeNormal initialization for further processing\n",
    "    # The parameters for the function are similar to encoder\n",
    "    conv = Conv2D(n_filters, \n",
    "                 3,     # Kernel size\n",
    "                 activation='relu',\n",
    "                 padding='same',\n",
    "                 kernel_initializer='HeNormal')(merge)\n",
    "    conv = Conv2D(n_filters,\n",
    "                 3,   # Kernel size\n",
    "                 activation='relu',\n",
    "                 padding='same',\n",
    "                 kernel_initializer='HeNormal')(conv)\n",
    "    return conv"
   ]
  },
  {
   "cell_type": "markdown",
   "id": "070a96ba",
   "metadata": {
    "papermill": {
     "duration": 0.052013,
     "end_time": "2022-01-20T10:06:24.733968",
     "exception": false,
     "start_time": "2022-01-20T10:06:24.681955",
     "status": "completed"
    },
    "tags": []
   },
   "source": [
    "now that we have coded basic blocks, we need to compile unet, that is appropriate for our dataset"
   ]
  },
  {
   "cell_type": "code",
   "execution_count": 22,
   "id": "d2cab157",
   "metadata": {
    "execution": {
     "iopub.execute_input": "2022-01-20T10:06:24.848701Z",
     "iopub.status.busy": "2022-01-20T10:06:24.848007Z",
     "iopub.status.idle": "2022-01-20T10:06:24.851399Z",
     "shell.execute_reply": "2022-01-20T10:06:24.850947Z",
     "shell.execute_reply.started": "2022-01-20T09:00:21.980474Z"
    },
    "papermill": {
     "duration": 0.064953,
     "end_time": "2022-01-20T10:06:24.851511",
     "exception": false,
     "start_time": "2022-01-20T10:06:24.786558",
     "status": "completed"
    },
    "tags": []
   },
   "outputs": [],
   "source": [
    "#3.3 - Compile U-Net Blocks\n",
    "def UNetCompiled(input_size=(128, 128, 3), n_filters=16, n_classes=1):\n",
    "    inputs = Input(input_size)\n",
    "    \n",
    "    # Encoder includes multiple convolutional mini blocks with different maxpooling, dropout and filter parameters\n",
    "    # Observe that the filters are increasing as we go deeper into the network which will increasse the # channels of the image \n",
    "    cblock1 = EncoderMiniBlock(inputs, n_filters,dropout_prob=0, max_pooling=True)\n",
    "    cblock2 = EncoderMiniBlock(cblock1[0],n_filters*2,dropout_prob=0, max_pooling=True)\n",
    "    cblock3 = EncoderMiniBlock(cblock2[0], n_filters*4,dropout_prob=0, max_pooling=True)\n",
    "    cblock4 = EncoderMiniBlock(cblock3[0], n_filters*8,dropout_prob=0.3, max_pooling=True)\n",
    "    cblock5 = EncoderMiniBlock(cblock4[0], n_filters*16, dropout_prob=0.3, max_pooling=False) \n",
    "    \n",
    "    # Decoder includes multiple mini blocks with decreasing number of filters\n",
    "    # Observe the skip connections from the encoder are given as input to the decoder\n",
    "    # Recall the 2nd output of encoder block was skip connection, hence cblockn[1] is used\n",
    "    ublock6 = DecoderMiniBlock(cblock5[0], cblock4[1],  n_filters * 8)\n",
    "    ublock7 = DecoderMiniBlock(ublock6, cblock3[1],  n_filters * 4)\n",
    "    ublock8 = DecoderMiniBlock(ublock7, cblock2[1],  n_filters * 2)\n",
    "    ublock9 = DecoderMiniBlock(ublock8, cblock1[1],  n_filters)\n",
    " \n",
    "    # Complete the model with 1 3x3 convolution layer (Same as the prev Conv Layers)\n",
    "    # Followed by a 1x1 Conv layer to get the image to the desired size. \n",
    "    # Observe the number of channels will be equal to number of output classes\n",
    "    conv9 = Conv2D(n_filters,\n",
    "                 3,\n",
    "                 activation='relu',\n",
    "                 padding='same',\n",
    "                 kernel_initializer='he_normal')(ublock9)\n",
    "\n",
    "    conv10 = Conv2D(n_classes, 1, padding='same')(conv9)\n",
    "    \n",
    "    # Define the model\n",
    "    model = tf.keras.Model(inputs=inputs, outputs=conv10)\n",
    "\n",
    "    return model\n",
    "\n"
   ]
  },
  {
   "cell_type": "code",
   "execution_count": 23,
   "id": "5d12cbb9",
   "metadata": {
    "execution": {
     "iopub.execute_input": "2022-01-20T10:06:24.960485Z",
     "iopub.status.busy": "2022-01-20T10:06:24.959899Z",
     "iopub.status.idle": "2022-01-20T10:06:25.239610Z",
     "shell.execute_reply": "2022-01-20T10:06:25.239112Z",
     "shell.execute_reply.started": "2022-01-20T09:00:21.992894Z"
    },
    "papermill": {
     "duration": 0.336266,
     "end_time": "2022-01-20T10:06:25.239747",
     "exception": false,
     "start_time": "2022-01-20T10:06:24.903481",
     "status": "completed"
    },
    "tags": []
   },
   "outputs": [],
   "source": [
    "#compiling unet model\n",
    "unet = UNetCompiled(input_size=(64,64,3), n_filters=16, n_classes=1)\n"
   ]
  },
  {
   "cell_type": "code",
   "execution_count": 24,
   "id": "5617225e",
   "metadata": {
    "execution": {
     "iopub.execute_input": "2022-01-20T10:06:25.355521Z",
     "iopub.status.busy": "2022-01-20T10:06:25.354604Z",
     "iopub.status.idle": "2022-01-20T10:06:25.356361Z",
     "shell.execute_reply": "2022-01-20T10:06:25.356772Z",
     "shell.execute_reply.started": "2022-01-20T09:00:24.075050Z"
    },
    "papermill": {
     "duration": 0.062828,
     "end_time": "2022-01-20T10:06:25.356909",
     "exception": false,
     "start_time": "2022-01-20T10:06:25.294081",
     "status": "completed"
    },
    "tags": []
   },
   "outputs": [],
   "source": [
    "from keras.losses import binary_crossentropy\n",
    "import keras.backend as K\n",
    "\n",
    "#metric and loss function to be used for training model\n",
    "def dice_coeff(y_true, y_pred):\n",
    "    smooth = 1.\n",
    "    y_true_f = K.flatten(y_true)\n",
    "    y_pred_f = K.flatten(y_pred)\n",
    "    intersection = K.sum(y_true_f * y_pred_f)\n",
    "    score = (2. * intersection + smooth) / (K.sum(y_true_f) + K.sum(y_pred_f) + smooth)\n",
    "    return score\n",
    "\n",
    "\n",
    "def dice_loss(y_true, y_pred):\n",
    "    loss = 1 - dice_coeff(y_true, y_pred)\n",
    "    return loss\n",
    "\n",
    "\n",
    "def bce_dice_loss(y_true, y_pred):\n",
    "    loss = binary_crossentropy(y_true, y_pred) + dice_loss(y_true, y_pred)\n",
    "    return loss"
   ]
  },
  {
   "cell_type": "code",
   "execution_count": 25,
   "id": "fd264724",
   "metadata": {
    "execution": {
     "iopub.execute_input": "2022-01-20T10:06:25.475134Z",
     "iopub.status.busy": "2022-01-20T10:06:25.474243Z",
     "iopub.status.idle": "2022-01-20T10:06:25.481371Z",
     "shell.execute_reply": "2022-01-20T10:06:25.480895Z",
     "shell.execute_reply.started": "2022-01-20T09:00:24.477057Z"
    },
    "papermill": {
     "duration": 0.068613,
     "end_time": "2022-01-20T10:06:25.481504",
     "exception": false,
     "start_time": "2022-01-20T10:06:25.412891",
     "status": "completed"
    },
    "tags": []
   },
   "outputs": [],
   "source": [
    "unet.compile(optimizer=tf.keras.optimizers.Adam(), \n",
    "             loss=tf.keras.losses.BinaryCrossentropy(),\n",
    "              metrics=['accuracy'])"
   ]
  },
  {
   "cell_type": "code",
   "execution_count": 26,
   "id": "b37a132e",
   "metadata": {
    "execution": {
     "iopub.execute_input": "2022-01-20T10:06:25.589847Z",
     "iopub.status.busy": "2022-01-20T10:06:25.589052Z",
     "iopub.status.idle": "2022-01-20T10:06:25.593158Z",
     "shell.execute_reply": "2022-01-20T10:06:25.592725Z",
     "shell.execute_reply.started": "2022-01-20T09:00:24.826777Z"
    },
    "papermill": {
     "duration": 0.059095,
     "end_time": "2022-01-20T10:06:25.593268",
     "exception": false,
     "start_time": "2022-01-20T10:06:25.534173",
     "status": "completed"
    },
    "tags": []
   },
   "outputs": [],
   "source": [
    "STEPS_PER_EPOCH = TRAIN_LENGTH // BATCH_SIZE"
   ]
  },
  {
   "cell_type": "code",
   "execution_count": 27,
   "id": "d5927416",
   "metadata": {
    "execution": {
     "iopub.execute_input": "2022-01-20T10:06:25.702251Z",
     "iopub.status.busy": "2022-01-20T10:06:25.701701Z",
     "iopub.status.idle": "2022-01-20T10:06:25.703955Z",
     "shell.execute_reply": "2022-01-20T10:06:25.704387Z",
     "shell.execute_reply.started": "2022-01-20T09:00:25.056556Z"
    },
    "papermill": {
     "duration": 0.058625,
     "end_time": "2022-01-20T10:06:25.704529",
     "exception": false,
     "start_time": "2022-01-20T10:06:25.645904",
     "status": "completed"
    },
    "tags": []
   },
   "outputs": [],
   "source": [
    "#callbacks to apply when training the model\n",
    "#early stopping if performance does not improve within given patience parameter\n",
    "#model checkpoint for saving weights of the model which las performed better \n",
    "# reducing learning rate in order to find the optimal solution \n",
    "from keras.callbacks import EarlyStopping, ModelCheckpoint, ReduceLROnPlateau"
   ]
  },
  {
   "cell_type": "code",
   "execution_count": 28,
   "id": "db93964d",
   "metadata": {
    "execution": {
     "iopub.execute_input": "2022-01-20T10:06:25.813507Z",
     "iopub.status.busy": "2022-01-20T10:06:25.812785Z",
     "iopub.status.idle": "2022-01-20T10:06:25.815521Z",
     "shell.execute_reply": "2022-01-20T10:06:25.815014Z",
     "shell.execute_reply.started": "2022-01-20T09:00:25.275932Z"
    },
    "papermill": {
     "duration": 0.05908,
     "end_time": "2022-01-20T10:06:25.815630",
     "exception": false,
     "start_time": "2022-01-20T10:06:25.756550",
     "status": "completed"
    },
    "tags": []
   },
   "outputs": [],
   "source": [
    "callbacks = [\n",
    "    EarlyStopping(patience=10, verbose=1),\n",
    "    ReduceLROnPlateau(factor=0.1, patience=5, min_lr=0.00001, verbose=1),\n",
    "    ModelCheckpoint('model-tgs-salt.h5', verbose=1, save_best_only=True, save_weights_only=True)\n",
    "]"
   ]
  },
  {
   "cell_type": "code",
   "execution_count": 29,
   "id": "c7c65b9f",
   "metadata": {
    "execution": {
     "iopub.execute_input": "2022-01-20T10:06:25.928154Z",
     "iopub.status.busy": "2022-01-20T10:06:25.927424Z",
     "iopub.status.idle": "2022-01-20T10:14:08.394126Z",
     "shell.execute_reply": "2022-01-20T10:14:08.393545Z",
     "shell.execute_reply.started": "2022-01-20T09:00:25.526809Z"
    },
    "papermill": {
     "duration": 462.525432,
     "end_time": "2022-01-20T10:14:08.394293",
     "exception": false,
     "start_time": "2022-01-20T10:06:25.868861",
     "status": "completed"
    },
    "tags": []
   },
   "outputs": [
    {
     "name": "stdout",
     "output_type": "stream",
     "text": [
      "Epoch 1/15\n"
     ]
    },
    {
     "name": "stderr",
     "output_type": "stream",
     "text": [
      "2022-01-20 10:06:37.380288: I tensorflow/core/kernels/data/shuffle_dataset_op.cc:175] Filling up shuffle buffer (this may take a while): 472 of 1000\n",
      "2022-01-20 10:06:47.376219: I tensorflow/core/kernels/data/shuffle_dataset_op.cc:175] Filling up shuffle buffer (this may take a while): 958 of 1000\n",
      "2022-01-20 10:06:48.155658: I tensorflow/core/kernels/data/shuffle_dataset_op.cc:228] Shuffle buffer filled.\n",
      "2022-01-20 10:06:49.299712: I tensorflow/stream_executor/cuda/cuda_dnn.cc:369] Loaded cuDNN version 8005\n"
     ]
    },
    {
     "name": "stdout",
     "output_type": "stream",
     "text": [
      "238/238 [==============================] - 114s 358ms/step - loss: 0.3173 - accuracy: 0.8800 - val_loss: 0.2098 - val_accuracy: 0.9092\n",
      "\n",
      "Epoch 00001: val_loss improved from inf to 0.20983, saving model to model-tgs-salt.h5\n",
      "Epoch 2/15\n",
      "238/238 [==============================] - 29s 123ms/step - loss: 0.1613 - accuracy: 0.9425 - val_loss: 0.1326 - val_accuracy: 0.9501\n",
      "\n",
      "Epoch 00002: val_loss improved from 0.20983 to 0.13260, saving model to model-tgs-salt.h5\n",
      "Epoch 3/15\n",
      "238/238 [==============================] - 29s 122ms/step - loss: 0.1114 - accuracy: 0.9579 - val_loss: 0.0724 - val_accuracy: 0.9709\n",
      "\n",
      "Epoch 00003: val_loss improved from 0.13260 to 0.07241, saving model to model-tgs-salt.h5\n",
      "Epoch 4/15\n",
      "238/238 [==============================] - 29s 120ms/step - loss: 0.2007 - accuracy: 0.9250 - val_loss: 0.2006 - val_accuracy: 0.9213\n",
      "\n",
      "Epoch 00004: val_loss did not improve from 0.07241\n",
      "Epoch 5/15\n",
      "238/238 [==============================] - 29s 120ms/step - loss: 0.1593 - accuracy: 0.9353 - val_loss: 0.1565 - val_accuracy: 0.9259\n",
      "\n",
      "Epoch 00005: val_loss did not improve from 0.07241\n",
      "Epoch 6/15\n",
      "238/238 [==============================] - 29s 121ms/step - loss: 0.2624 - accuracy: 0.9010 - val_loss: 0.1397 - val_accuracy: 0.9517\n",
      "\n",
      "Epoch 00006: val_loss did not improve from 0.07241\n",
      "Epoch 7/15\n",
      "238/238 [==============================] - 29s 122ms/step - loss: 0.1571 - accuracy: 0.9427 - val_loss: 0.1675 - val_accuracy: 0.9448\n",
      "\n",
      "Epoch 00007: val_loss did not improve from 0.07241\n",
      "Epoch 8/15\n",
      "238/238 [==============================] - 31s 132ms/step - loss: 0.1552 - accuracy: 0.9443 - val_loss: 0.1698 - val_accuracy: 0.9342\n",
      "\n",
      "Epoch 00008: ReduceLROnPlateau reducing learning rate to 0.00010000000474974513.\n",
      "\n",
      "Epoch 00008: val_loss did not improve from 0.07241\n",
      "Epoch 9/15\n",
      "238/238 [==============================] - 29s 121ms/step - loss: 0.1789 - accuracy: 0.9253 - val_loss: 0.1828 - val_accuracy: 0.9148\n",
      "\n",
      "Epoch 00009: val_loss did not improve from 0.07241\n",
      "Epoch 10/15\n",
      "238/238 [==============================] - 29s 123ms/step - loss: 0.1373 - accuracy: 0.9406 - val_loss: 0.1142 - val_accuracy: 0.9517\n",
      "\n",
      "Epoch 00010: val_loss did not improve from 0.07241\n",
      "Epoch 11/15\n",
      "238/238 [==============================] - 29s 123ms/step - loss: 0.1063 - accuracy: 0.9573 - val_loss: 0.0946 - val_accuracy: 0.9630\n",
      "\n",
      "Epoch 00011: val_loss did not improve from 0.07241\n",
      "Epoch 12/15\n",
      "238/238 [==============================] - 29s 122ms/step - loss: 0.0864 - accuracy: 0.9689 - val_loss: 0.0785 - val_accuracy: 0.9710\n",
      "\n",
      "Epoch 00012: val_loss did not improve from 0.07241\n",
      "Epoch 13/15\n",
      "238/238 [==============================] - 28s 120ms/step - loss: 0.0753 - accuracy: 0.9729 - val_loss: 0.0725 - val_accuracy: 0.9724\n",
      "\n",
      "Epoch 00013: ReduceLROnPlateau reducing learning rate to 1.0000000474974514e-05.\n",
      "\n",
      "Epoch 00013: val_loss did not improve from 0.07241\n",
      "Epoch 00013: early stopping\n"
     ]
    }
   ],
   "source": [
    "hist = unet.fit(train_dataset, batch_size=16, epochs=15,steps_per_epoch=STEPS_PER_EPOCH,callbacks = callbacks, validation_data=valid_dataset)"
   ]
  },
  {
   "cell_type": "code",
   "execution_count": 30,
   "id": "9ddcc805",
   "metadata": {
    "execution": {
     "iopub.execute_input": "2022-01-20T10:14:08.995647Z",
     "iopub.status.busy": "2022-01-20T10:14:08.994779Z",
     "iopub.status.idle": "2022-01-20T10:14:09.056133Z",
     "shell.execute_reply": "2022-01-20T10:14:09.055695Z",
     "shell.execute_reply.started": "2022-01-20T09:09:49.048718Z"
    },
    "papermill": {
     "duration": 0.359216,
     "end_time": "2022-01-20T10:14:09.056256",
     "exception": false,
     "start_time": "2022-01-20T10:14:08.697040",
     "status": "completed"
    },
    "tags": []
   },
   "outputs": [],
   "source": [
    "#loading the weight of model which last performed  best\n",
    "unet.load_weights(\"./model-tgs-salt.h5\")"
   ]
  },
  {
   "cell_type": "code",
   "execution_count": 31,
   "id": "60f0a787",
   "metadata": {
    "execution": {
     "iopub.execute_input": "2022-01-20T10:14:09.809232Z",
     "iopub.status.busy": "2022-01-20T10:14:09.808513Z",
     "iopub.status.idle": "2022-01-20T10:14:49.558838Z",
     "shell.execute_reply": "2022-01-20T10:14:49.559251Z",
     "shell.execute_reply.started": "2022-01-20T09:09:49.123475Z"
    },
    "papermill": {
     "duration": 40.213978,
     "end_time": "2022-01-20T10:14:49.559417",
     "exception": false,
     "start_time": "2022-01-20T10:14:09.345439",
     "status": "completed"
    },
    "tags": []
   },
   "outputs": [
    {
     "data": {
      "text/plain": [
       "23983"
      ]
     },
     "execution_count": 31,
     "metadata": {},
     "output_type": "execute_result"
    }
   ],
   "source": [
    "#delete train_df,valid_df, train, valid, df, mask_df to free up memory \n",
    "import gc\n",
    "#del train_df\n",
    "gc.collect()"
   ]
  },
  {
   "cell_type": "code",
   "execution_count": 32,
   "id": "a91ec239",
   "metadata": {
    "execution": {
     "iopub.execute_input": "2022-01-20T10:14:50.318778Z",
     "iopub.status.busy": "2022-01-20T10:14:50.318037Z",
     "iopub.status.idle": "2022-01-20T10:14:50.321043Z",
     "shell.execute_reply": "2022-01-20T10:14:50.321458Z",
     "shell.execute_reply.started": "2022-01-20T09:09:49.315236Z"
    },
    "papermill": {
     "duration": 0.462275,
     "end_time": "2022-01-20T10:14:50.321604",
     "exception": false,
     "start_time": "2022-01-20T10:14:49.859329",
     "status": "completed"
    },
    "tags": []
   },
   "outputs": [
    {
     "data": {
      "text/plain": [
       "21"
      ]
     },
     "execution_count": 32,
     "metadata": {},
     "output_type": "execute_result"
    }
   ],
   "source": [
    "del mask_df\n",
    "gc.collect()"
   ]
  },
  {
   "cell_type": "code",
   "execution_count": 33,
   "id": "b10a233d",
   "metadata": {
    "execution": {
     "iopub.execute_input": "2022-01-20T10:14:51.081002Z",
     "iopub.status.busy": "2022-01-20T10:14:51.080288Z",
     "iopub.status.idle": "2022-01-20T10:14:51.083100Z",
     "shell.execute_reply": "2022-01-20T10:14:51.083542Z",
     "shell.execute_reply.started": "2022-01-20T09:09:49.496895Z"
    },
    "papermill": {
     "duration": 0.471548,
     "end_time": "2022-01-20T10:14:51.083695",
     "exception": false,
     "start_time": "2022-01-20T10:14:50.612147",
     "status": "completed"
    },
    "tags": []
   },
   "outputs": [
    {
     "data": {
      "text/plain": [
       "21"
      ]
     },
     "execution_count": 33,
     "metadata": {},
     "output_type": "execute_result"
    }
   ],
   "source": [
    "del df\n",
    "gc.collect()"
   ]
  },
  {
   "cell_type": "code",
   "execution_count": 34,
   "id": "620a8261",
   "metadata": {
    "execution": {
     "iopub.execute_input": "2022-01-20T10:14:51.835979Z",
     "iopub.status.busy": "2022-01-20T10:14:51.835235Z",
     "iopub.status.idle": "2022-01-20T10:14:51.837934Z",
     "shell.execute_reply": "2022-01-20T10:14:51.838396Z",
     "shell.execute_reply.started": "2022-01-20T09:09:49.757797Z"
    },
    "papermill": {
     "duration": 0.459088,
     "end_time": "2022-01-20T10:14:51.838541",
     "exception": false,
     "start_time": "2022-01-20T10:14:51.379453",
     "status": "completed"
    },
    "tags": []
   },
   "outputs": [
    {
     "data": {
      "text/plain": [
       "21"
      ]
     },
     "execution_count": 34,
     "metadata": {},
     "output_type": "execute_result"
    }
   ],
   "source": [
    "del train\n",
    "gc.collect()"
   ]
  },
  {
   "cell_type": "code",
   "execution_count": 35,
   "id": "0b39647a",
   "metadata": {
    "execution": {
     "iopub.execute_input": "2022-01-20T10:14:52.639930Z",
     "iopub.status.busy": "2022-01-20T10:14:52.639195Z",
     "iopub.status.idle": "2022-01-20T10:14:52.641849Z",
     "shell.execute_reply": "2022-01-20T10:14:52.642361Z",
     "shell.execute_reply.started": "2022-01-20T09:09:49.994735Z"
    },
    "papermill": {
     "duration": 0.51066,
     "end_time": "2022-01-20T10:14:52.642512",
     "exception": false,
     "start_time": "2022-01-20T10:14:52.131852",
     "status": "completed"
    },
    "tags": []
   },
   "outputs": [
    {
     "data": {
      "text/plain": [
       "21"
      ]
     },
     "execution_count": 35,
     "metadata": {},
     "output_type": "execute_result"
    }
   ],
   "source": [
    "del valid\n",
    "gc.collect()"
   ]
  },
  {
   "cell_type": "code",
   "execution_count": 36,
   "id": "72b9286f",
   "metadata": {
    "execution": {
     "iopub.execute_input": "2022-01-20T10:14:53.387855Z",
     "iopub.status.busy": "2022-01-20T10:14:53.387122Z",
     "iopub.status.idle": "2022-01-20T10:14:53.389871Z",
     "shell.execute_reply": "2022-01-20T10:14:53.390263Z",
     "shell.execute_reply.started": "2022-01-20T09:09:50.201067Z"
    },
    "papermill": {
     "duration": 0.457413,
     "end_time": "2022-01-20T10:14:53.390429",
     "exception": false,
     "start_time": "2022-01-20T10:14:52.933016",
     "status": "completed"
    },
    "tags": []
   },
   "outputs": [
    {
     "data": {
      "text/plain": [
       "21"
      ]
     },
     "execution_count": 36,
     "metadata": {},
     "output_type": "execute_result"
    }
   ],
   "source": [
    "del valid_df\n",
    "gc.collect()"
   ]
  },
  {
   "cell_type": "code",
   "execution_count": 37,
   "id": "8fdb3ce3",
   "metadata": {
    "execution": {
     "iopub.execute_input": "2022-01-20T10:14:53.984509Z",
     "iopub.status.busy": "2022-01-20T10:14:53.983618Z",
     "iopub.status.idle": "2022-01-20T10:14:53.985491Z",
     "shell.execute_reply": "2022-01-20T10:14:53.985899Z",
     "shell.execute_reply.started": "2022-01-20T09:09:50.383820Z"
    },
    "papermill": {
     "duration": 0.302245,
     "end_time": "2022-01-20T10:14:53.986035",
     "exception": false,
     "start_time": "2022-01-20T10:14:53.683790",
     "status": "completed"
    },
    "tags": []
   },
   "outputs": [],
   "source": [
    "def vis_compare(dataset=valid_dataset,num_case=1):\n",
    "       \n",
    "    for sample in dataset.take(1):\n",
    "        image, label = sample[0].numpy(), sample[1].numpy()\n",
    "        print(image.shape)\n",
    "        print(label.shape)\n",
    "    preds=unet.predict(image)#predicting mask of valid dataset \n",
    "    preds = np.squeeze(preds, axis =-1)\n",
    "    print(preds.shape)\n",
    "    if num_case>1:\n",
    "        cases=[j for j in np.random.choice(image.shape[0],size=num_case,replace=False)]   #choosing random images\n",
    "        for i in cases:\n",
    "            truth=(image[i],label[i])\n",
    "            pred=(image[i],preds[i])\n",
    "            print(f\"case_number_{i}\")\n",
    "            fig, arr = plt.subplots(1, 3, figsize=(15, 15))\n",
    "            arr[0].imshow(image[i])\n",
    "            arr[0].set_title('Processed Image')\n",
    "            arr[1].imshow(label[i])\n",
    "            arr[1].set_title('Actual Masked Image ')\n",
    "            arr[2].imshow(preds[i])\n",
    "            arr[2].set_title('Predicted Masked Image ')\n",
    "    else:\n",
    "        truth=(image[0],label[0])\n",
    "        pred=(image[0],preds[0])\n",
    "        display([image[0],label[0],preds[0]])\n",
    "            \n",
    "    \n",
    "    \n",
    "    plt.show()"
   ]
  },
  {
   "cell_type": "code",
   "execution_count": 38,
   "id": "492ad2fe",
   "metadata": {
    "execution": {
     "iopub.execute_input": "2022-01-20T10:14:54.575822Z",
     "iopub.status.busy": "2022-01-20T10:14:54.574874Z",
     "iopub.status.idle": "2022-01-20T10:14:55.962766Z",
     "shell.execute_reply": "2022-01-20T10:14:55.962257Z",
     "shell.execute_reply.started": "2022-01-20T09:09:50.397727Z"
    },
    "papermill": {
     "duration": 1.6832,
     "end_time": "2022-01-20T10:14:55.962897",
     "exception": false,
     "start_time": "2022-01-20T10:14:54.279697",
     "status": "completed"
    },
    "tags": []
   },
   "outputs": [
    {
     "name": "stdout",
     "output_type": "stream",
     "text": [
      "(16, 64, 64, 3)\n",
      "(16, 64, 64, 1)\n",
      "(16, 64, 64)\n",
      "case_number_15\n",
      "case_number_8\n"
     ]
    },
    {
     "data": {
      "image/png": "[encoded data removed]",
      "text/plain": [
       "<Figure size 1080x1080 with 3 Axes>"
      ]
     },
     "metadata": {
      "needs_background": "light"
     },
     "output_type": "display_data"
    },
    {
     "data": {
      "image/png": "[encoded data removed]",
      "text/plain": [
       "<Figure size 1080x1080 with 3 Axes>"
      ]
     },
     "metadata": {
      "needs_background": "light"
     },
     "output_type": "display_data"
    }
   ],
   "source": [
    "vis_compare(dataset=valid_dataset,num_case=2)"
   ]
  },
  {
   "cell_type": "code",
   "execution_count": 39,
   "id": "e856a9b2",
   "metadata": {
    "execution": {
     "iopub.execute_input": "2022-01-20T10:14:56.556519Z",
     "iopub.status.busy": "2022-01-20T10:14:56.555895Z",
     "iopub.status.idle": "2022-01-20T10:17:53.985973Z",
     "shell.execute_reply": "2022-01-20T10:17:53.985462Z",
     "shell.execute_reply.started": "2022-01-20T09:09:51.840042Z"
    },
    "papermill": {
     "duration": 177.727393,
     "end_time": "2022-01-20T10:17:53.986116",
     "exception": false,
     "start_time": "2022-01-20T10:14:56.258723",
     "status": "completed"
    },
    "tags": []
   },
   "outputs": [],
   "source": [
    "#for test data\n",
    "test_zip = \"/kaggle/input/carvana-image-masking-challenge/test.zip\"#path for test data\n",
    "with ZipFile(test_zip, 'r') as zip_: \n",
    "    zip_.extractall('/kaggle/working')\n",
    "    "
   ]
  },
  {
   "cell_type": "code",
   "execution_count": 40,
   "id": "9a4ad868",
   "metadata": {
    "execution": {
     "iopub.execute_input": "2022-01-20T10:17:54.627850Z",
     "iopub.status.busy": "2022-01-20T10:17:54.624978Z",
     "iopub.status.idle": "2022-01-20T10:17:55.139430Z",
     "shell.execute_reply": "2022-01-20T10:17:55.140132Z",
     "shell.execute_reply.started": "2022-01-20T09:12:43.081689Z"
    },
    "papermill": {
     "duration": 0.853935,
     "end_time": "2022-01-20T10:17:55.140385",
     "exception": false,
     "start_time": "2022-01-20T10:17:54.286450",
     "status": "completed"
    },
    "tags": []
   },
   "outputs": [
    {
     "data": {
      "text/html": [
       "<div>\n",
       "<style scoped>\n",
       "    .dataframe tbody tr th:only-of-type {\n",
       "        vertical-align: middle;\n",
       "    }\n",
       "\n",
       "    .dataframe tbody tr th {\n",
       "        vertical-align: top;\n",
       "    }\n",
       "\n",
       "    .dataframe thead th {\n",
       "        text-align: right;\n",
       "    }\n",
       "</style>\n",
       "<table border=\"1\" class=\"dataframe\">\n",
       "  <thead>\n",
       "    <tr style=\"text-align: right;\">\n",
       "      <th></th>\n",
       "      <th>car_path</th>\n",
       "    </tr>\n",
       "    <tr>\n",
       "      <th>id</th>\n",
       "      <th></th>\n",
       "    </tr>\n",
       "  </thead>\n",
       "  <tbody>\n",
       "    <tr>\n",
       "      <th>02b33b412bde_15</th>\n",
       "      <td>/kaggle/working/test/02b33b412bde_15.jpg</td>\n",
       "    </tr>\n",
       "    <tr>\n",
       "      <th>24d3b6153fe7_03</th>\n",
       "      <td>/kaggle/working/test/24d3b6153fe7_03.jpg</td>\n",
       "    </tr>\n",
       "    <tr>\n",
       "      <th>62eb96adb87f_03</th>\n",
       "      <td>/kaggle/working/test/62eb96adb87f_03.jpg</td>\n",
       "    </tr>\n",
       "    <tr>\n",
       "      <th>e24ee4eccccf_05</th>\n",
       "      <td>/kaggle/working/test/e24ee4eccccf_05.jpg</td>\n",
       "    </tr>\n",
       "    <tr>\n",
       "      <th>2ef2b5949b6d_02</th>\n",
       "      <td>/kaggle/working/test/2ef2b5949b6d_02.jpg</td>\n",
       "    </tr>\n",
       "    <tr>\n",
       "      <th>...</th>\n",
       "      <td>...</td>\n",
       "    </tr>\n",
       "    <tr>\n",
       "      <th>3df59244b0b8_09</th>\n",
       "      <td>/kaggle/working/test/3df59244b0b8_09.jpg</td>\n",
       "    </tr>\n",
       "    <tr>\n",
       "      <th>1c02d4ff189f_07</th>\n",
       "      <td>/kaggle/working/test/1c02d4ff189f_07.jpg</td>\n",
       "    </tr>\n",
       "    <tr>\n",
       "      <th>8dca6df26c58_08</th>\n",
       "      <td>/kaggle/working/test/8dca6df26c58_08.jpg</td>\n",
       "    </tr>\n",
       "    <tr>\n",
       "      <th>881a4aa969ea_14</th>\n",
       "      <td>/kaggle/working/test/881a4aa969ea_14.jpg</td>\n",
       "    </tr>\n",
       "    <tr>\n",
       "      <th>788e1e49c027_09</th>\n",
       "      <td>/kaggle/working/test/788e1e49c027_09.jpg</td>\n",
       "    </tr>\n",
       "  </tbody>\n",
       "</table>\n",
       "<p>100064 rows × 1 columns</p>\n",
       "</div>"
      ],
      "text/plain": [
       "                                                 car_path\n",
       "id                                                       \n",
       "02b33b412bde_15  /kaggle/working/test/02b33b412bde_15.jpg\n",
       "24d3b6153fe7_03  /kaggle/working/test/24d3b6153fe7_03.jpg\n",
       "62eb96adb87f_03  /kaggle/working/test/62eb96adb87f_03.jpg\n",
       "e24ee4eccccf_05  /kaggle/working/test/e24ee4eccccf_05.jpg\n",
       "2ef2b5949b6d_02  /kaggle/working/test/2ef2b5949b6d_02.jpg\n",
       "...                                                   ...\n",
       "3df59244b0b8_09  /kaggle/working/test/3df59244b0b8_09.jpg\n",
       "1c02d4ff189f_07  /kaggle/working/test/1c02d4ff189f_07.jpg\n",
       "8dca6df26c58_08  /kaggle/working/test/8dca6df26c58_08.jpg\n",
       "881a4aa969ea_14  /kaggle/working/test/881a4aa969ea_14.jpg\n",
       "788e1e49c027_09  /kaggle/working/test/788e1e49c027_09.jpg\n",
       "\n",
       "[100064 rows x 1 columns]"
      ]
     },
     "execution_count": 40,
     "metadata": {},
     "output_type": "execute_result"
    }
   ],
   "source": [
    "car_ids = []\n",
    "paths = []\n",
    "for dirname, _, filenames in os.walk('/kaggle/working/test'):\n",
    "    for filename in filenames:\n",
    "        path = os.path.join(dirname, filename)    \n",
    "        paths.append(path)\n",
    "        \n",
    "        car_id = filename.split(\".\")[0]\n",
    "        car_ids.append(car_id)\n",
    "\n",
    "d = {\"id\": car_ids, \"car_path\": paths}\n",
    "df = pd.DataFrame(data = d)\n",
    "df = df.set_index('id')\n",
    "df"
   ]
  },
  {
   "cell_type": "code",
   "execution_count": 41,
   "id": "ad6d56b1",
   "metadata": {
    "execution": {
     "iopub.execute_input": "2022-01-20T10:17:56.277493Z",
     "iopub.status.busy": "2022-01-20T10:17:56.270063Z",
     "iopub.status.idle": "2022-01-20T10:17:56.346605Z",
     "shell.execute_reply": "2022-01-20T10:17:56.346147Z",
     "shell.execute_reply.started": "2022-01-20T09:12:43.468451Z"
    },
    "papermill": {
     "duration": 0.557221,
     "end_time": "2022-01-20T10:17:56.346732",
     "exception": false,
     "start_time": "2022-01-20T10:17:55.789511",
     "status": "completed"
    },
    "tags": []
   },
   "outputs": [],
   "source": [
    "img_size = [64,64]\n",
    "\n",
    "\n",
    "def preprocessing(car_path): #preprocessing test data as did to train data\n",
    "    car_img = tf.io.read_file(car_path) \n",
    "    car_img = tf.image.decode_jpeg(car_img, channels=3)\n",
    "    car_img = tf.image.resize(car_img, img_size)\n",
    "    car_img = tf.cast(car_img, tf.float32) / 255.0\n",
    "    return car_img\n",
    "def create_dataset(df, train = False): #dataset for input of model\n",
    "    if not train:\n",
    "        ds = tf.data.Dataset.from_tensor_slices((df[\"car_path\"].values))\n",
    "        ds = ds.map(preprocessing, tf.data.AUTOTUNE)\n",
    "\n",
    "    return ds\n",
    "test = create_dataset(df)\n",
    "\n",
    "\n"
   ]
  },
  {
   "cell_type": "code",
   "execution_count": 42,
   "id": "1fb33d21",
   "metadata": {
    "execution": {
     "iopub.execute_input": "2022-01-20T10:17:56.948073Z",
     "iopub.status.busy": "2022-01-20T10:17:56.945024Z",
     "iopub.status.idle": "2022-01-20T10:17:56.951306Z",
     "shell.execute_reply": "2022-01-20T10:17:56.950859Z",
     "shell.execute_reply.started": "2022-01-20T09:12:43.582186Z"
    },
    "papermill": {
     "duration": 0.309554,
     "end_time": "2022-01-20T10:17:56.951443",
     "exception": false,
     "start_time": "2022-01-20T10:17:56.641889",
     "status": "completed"
    },
    "tags": []
   },
   "outputs": [],
   "source": [
    "BATCH_SIZE = 16\n",
    "test_dataset = test.batch(BATCH_SIZE)"
   ]
  },
  {
   "cell_type": "code",
   "execution_count": 43,
   "id": "3a725b12",
   "metadata": {
    "execution": {
     "iopub.execute_input": "2022-01-20T10:17:57.556247Z",
     "iopub.status.busy": "2022-01-20T10:17:57.554959Z",
     "iopub.status.idle": "2022-01-20T10:17:57.558667Z",
     "shell.execute_reply": "2022-01-20T10:17:57.558225Z",
     "shell.execute_reply.started": "2022-01-20T09:12:43.589417Z"
    },
    "papermill": {
     "duration": 0.305811,
     "end_time": "2022-01-20T10:17:57.558783",
     "exception": false,
     "start_time": "2022-01-20T10:17:57.252972",
     "status": "completed"
    },
    "tags": []
   },
   "outputs": [
    {
     "data": {
      "text/plain": [
       "100064"
      ]
     },
     "execution_count": 43,
     "metadata": {},
     "output_type": "execute_result"
    }
   ],
   "source": [
    "len(df)"
   ]
  },
  {
   "cell_type": "code",
   "execution_count": 44,
   "id": "dc57f6b0",
   "metadata": {
    "execution": {
     "iopub.execute_input": "2022-01-20T10:17:58.165069Z",
     "iopub.status.busy": "2022-01-20T10:17:58.164119Z",
     "iopub.status.idle": "2022-01-20T10:18:00.208399Z",
     "shell.execute_reply": "2022-01-20T10:18:00.207816Z",
     "shell.execute_reply.started": "2022-01-20T09:12:43.607077Z"
    },
    "papermill": {
     "duration": 2.350451,
     "end_time": "2022-01-20T10:18:00.208567",
     "exception": false,
     "start_time": "2022-01-20T10:17:57.858116",
     "status": "completed"
    },
    "tags": []
   },
   "outputs": [
    {
     "name": "stdout",
     "output_type": "stream",
     "text": [
      "(64, 64, 3)\n",
      "1\n"
     ]
    },
    {
     "name": "stderr",
     "output_type": "stream",
     "text": [
      "2022-01-20 10:17:58.169055: W tensorflow/core/data/root_dataset.cc:167] Optimization loop failed: Cancelled: Operation was cancelled\n"
     ]
    },
    {
     "data": {
      "image/png": "[encoded data removed]",
      "text/plain": [
       "<Figure size 720x720 with 1 Axes>"
      ]
     },
     "metadata": {
      "needs_background": "light"
     },
     "output_type": "display_data"
    },
    {
     "name": "stdout",
     "output_type": "stream",
     "text": [
      "(64, 64, 3)\n",
      "2\n"
     ]
    },
    {
     "data": {
      "image/png": "[encoded data removed]",
      "text/plain": [
       "<Figure size 720x720 with 1 Axes>"
      ]
     },
     "metadata": {
      "needs_background": "light"
     },
     "output_type": "display_data"
    },
    {
     "name": "stdout",
     "output_type": "stream",
     "text": [
      "(64, 64, 3)\n",
      "2\n"
     ]
    },
    {
     "data": {
      "image/png": "[encoded data removed]",
      "text/plain": [
       "<Figure size 720x720 with 1 Axes>"
      ]
     },
     "metadata": {
      "needs_background": "light"
     },
     "output_type": "display_data"
    },
    {
     "name": "stdout",
     "output_type": "stream",
     "text": [
      "(64, 64, 3)\n",
      "3\n"
     ]
    },
    {
     "data": {
      "image/png": "[encoded data removed]",
      "text/plain": [
       "<Figure size 720x720 with 1 Axes>"
      ]
     },
     "metadata": {
      "needs_background": "light"
     },
     "output_type": "display_data"
    },
    {
     "name": "stdout",
     "output_type": "stream",
     "text": [
      "(64, 64, 3)\n",
      "3\n"
     ]
    },
    {
     "data": {
      "image/png": "[encoded data removed]",
      "text/plain": [
       "<Figure size 720x720 with 1 Axes>"
      ]
     },
     "metadata": {
      "needs_background": "light"
     },
     "output_type": "display_data"
    },
    {
     "name": "stdout",
     "output_type": "stream",
     "text": [
      "(64, 64, 3)\n",
      "3\n"
     ]
    },
    {
     "data": {
      "image/png": "[encoded data removed]",
      "text/plain": [
       "<Figure size 720x720 with 1 Axes>"
      ]
     },
     "metadata": {
      "needs_background": "light"
     },
     "output_type": "display_data"
    },
    {
     "name": "stdout",
     "output_type": "stream",
     "text": [
      "(64, 64, 3)\n",
      "4\n"
     ]
    },
    {
     "data": {
      "image/png": "[encoded data removed]",
      "text/plain": [
       "<Figure size 720x720 with 1 Axes>"
      ]
     },
     "metadata": {
      "needs_background": "light"
     },
     "output_type": "display_data"
    },
    {
     "name": "stdout",
     "output_type": "stream",
     "text": [
      "(64, 64, 3)\n",
      "4\n"
     ]
    },
    {
     "data": {
      "image/png": "[encoded data removed]",
      "text/plain": [
       "<Figure size 720x720 with 1 Axes>"
      ]
     },
     "metadata": {
      "needs_background": "light"
     },
     "output_type": "display_data"
    },
    {
     "name": "stdout",
     "output_type": "stream",
     "text": [
      "(64, 64, 3)\n",
      "4\n"
     ]
    },
    {
     "data": {
      "image/png": "[encoded data removed]",
      "text/plain": [
       "<Figure size 720x720 with 1 Axes>"
      ]
     },
     "metadata": {
      "needs_background": "light"
     },
     "output_type": "display_data"
    },
    {
     "name": "stdout",
     "output_type": "stream",
     "text": [
      "(64, 64, 3)\n",
      "4\n"
     ]
    },
    {
     "data": {
      "image/png": "[encoded data removed]",
      "text/plain": [
       "<Figure size 720x720 with 1 Axes>"
      ]
     },
     "metadata": {
      "needs_background": "light"
     },
     "output_type": "display_data"
    }
   ],
   "source": [
    "#visualizing test images\n",
    "for i in range(5):\n",
    "   for image  in test.take(i):\n",
    "        print(image.shape)\n",
    "        print(i)\n",
    "        sample_image= image\n",
    "        display([sample_image])"
   ]
  },
  {
   "cell_type": "code",
   "execution_count": 45,
   "id": "5cc5924c",
   "metadata": {
    "execution": {
     "iopub.execute_input": "2022-01-20T10:18:01.402091Z",
     "iopub.status.busy": "2022-01-20T10:18:01.401245Z",
     "iopub.status.idle": "2022-01-20T10:27:24.317248Z",
     "shell.execute_reply": "2022-01-20T10:27:24.316198Z",
     "shell.execute_reply.started": "2022-01-20T09:12:46.832562Z"
    },
    "papermill": {
     "duration": 563.742863,
     "end_time": "2022-01-20T10:27:24.317423",
     "exception": false,
     "start_time": "2022-01-20T10:18:00.574560",
     "status": "completed"
    },
    "tags": []
   },
   "outputs": [
    {
     "name": "stderr",
     "output_type": "stream",
     "text": [
      "2022-01-20 10:27:20.750063: W tensorflow/core/framework/cpu_allocator_impl.cc:80] Allocation of 1639448576 exceeds 10% of free system memory.\n"
     ]
    }
   ],
   "source": [
    "preds = unet.predict(test_dataset)"
   ]
  },
  {
   "cell_type": "code",
   "execution_count": 46,
   "id": "63c0e310",
   "metadata": {
    "execution": {
     "iopub.execute_input": "2022-01-20T10:27:25.276467Z",
     "iopub.status.busy": "2022-01-20T10:27:25.275537Z",
     "iopub.status.idle": "2022-01-20T10:27:25.279170Z",
     "shell.execute_reply": "2022-01-20T10:27:25.277198Z",
     "shell.execute_reply.started": "2022-01-20T09:22:04.338747Z"
    },
    "papermill": {
     "duration": 0.529859,
     "end_time": "2022-01-20T10:27:25.279351",
     "exception": false,
     "start_time": "2022-01-20T10:27:24.749492",
     "status": "completed"
    },
    "tags": []
   },
   "outputs": [
    {
     "data": {
      "text/plain": [
       "(100064, 64, 64, 1)"
      ]
     },
     "execution_count": 46,
     "metadata": {},
     "output_type": "execute_result"
    }
   ],
   "source": [
    " preds.shape"
   ]
  },
  {
   "cell_type": "code",
   "execution_count": 47,
   "id": "bbfc145a",
   "metadata": {
    "execution": {
     "iopub.execute_input": "2022-01-20T10:27:26.083454Z",
     "iopub.status.busy": "2022-01-20T10:27:26.082853Z",
     "iopub.status.idle": "2022-01-20T10:27:26.407201Z",
     "shell.execute_reply": "2022-01-20T10:27:26.406740Z",
     "shell.execute_reply.started": "2022-01-20T09:23:06.689068Z"
    },
    "papermill": {
     "duration": 0.647167,
     "end_time": "2022-01-20T10:27:26.407347",
     "exception": false,
     "start_time": "2022-01-20T10:27:25.760180",
     "status": "completed"
    },
    "tags": []
   },
   "outputs": [],
   "source": [
    "from tqdm import tqdm\n",
    "import cv2"
   ]
  },
  {
   "cell_type": "code",
   "execution_count": 48,
   "id": "01f9493a",
   "metadata": {
    "execution": {
     "iopub.execute_input": "2022-01-20T10:27:27.048570Z",
     "iopub.status.busy": "2022-01-20T10:27:27.047901Z",
     "iopub.status.idle": "2022-01-20T10:38:25.330229Z",
     "shell.execute_reply": "2022-01-20T10:38:25.330886Z",
     "shell.execute_reply.started": "2022-01-20T09:33:48.864886Z"
    },
    "papermill": {
     "duration": 658.606181,
     "end_time": "2022-01-20T10:38:25.331090",
     "exception": false,
     "start_time": "2022-01-20T10:27:26.724909",
     "status": "completed"
    },
    "tags": []
   },
   "outputs": [
    {
     "name": "stdout",
     "output_type": "stream",
     "text": [
      "Generating submission file...\n"
     ]
    }
   ],
   "source": [
    " def run_length_encode(mask): #function to change the predicted masks into wanted submission type according to instructions  \n",
    "    '''\n",
    "    img: numpy array, 1 - mask, 0 - background\n",
    "    Returns run length as string formated\n",
    "    '''\n",
    "    inds = mask.flatten()#making it scalar\n",
    "    runs = np.where(inds[1:] != inds[:-1])[0] + 2\n",
    "    runs[1::2] = runs[1::2] - runs[:-1:2]\n",
    "    rle = ' '.join([str(r) for r in runs])\n",
    "    return rle\n",
    "\n",
    "\n",
    "rles = []   \n",
    "\n",
    "#preds_o=preds.max(axis=3)\n",
    "\n",
    "preds = np.squeeze(preds, axis=3)\n",
    "for pred in preds:\n",
    "    prob = cv2.resize(pred, (mask_w, mask_h))\n",
    "    mask = prob > 0.5\n",
    "    rle = run_length_encode(mask)\n",
    "    rles.append(rle)\n",
    "\n",
    "print(\"Generating submission file...\")\n"
   ]
  },
  {
   "cell_type": "code",
   "execution_count": 49,
   "id": "e04d84e5",
   "metadata": {
    "execution": {
     "iopub.execute_input": "2022-01-20T10:38:25.955231Z",
     "iopub.status.busy": "2022-01-20T10:38:25.954694Z",
     "iopub.status.idle": "2022-01-20T10:38:25.958987Z",
     "shell.execute_reply": "2022-01-20T10:38:25.959439Z",
     "shell.execute_reply.started": "2022-01-20T09:44:56.091126Z"
    },
    "papermill": {
     "duration": 0.318029,
     "end_time": "2022-01-20T10:38:25.959582",
     "exception": false,
     "start_time": "2022-01-20T10:38:25.641553",
     "status": "completed"
    },
    "tags": []
   },
   "outputs": [
    {
     "data": {
      "text/plain": [
       "100064"
      ]
     },
     "execution_count": 49,
     "metadata": {},
     "output_type": "execute_result"
    }
   ],
   "source": [
    "len(rles)"
   ]
  },
  {
   "cell_type": "code",
   "execution_count": 50,
   "id": "ad11bbd4",
   "metadata": {
    "execution": {
     "iopub.execute_input": "2022-01-20T10:38:26.596702Z",
     "iopub.status.busy": "2022-01-20T10:38:26.595838Z",
     "iopub.status.idle": "2022-01-20T10:38:26.633606Z",
     "shell.execute_reply": "2022-01-20T10:38:26.633095Z",
     "shell.execute_reply.started": "2022-01-20T09:58:09.493872Z"
    },
    "papermill": {
     "duration": 0.365647,
     "end_time": "2022-01-20T10:38:26.633746",
     "exception": false,
     "start_time": "2022-01-20T10:38:26.268099",
     "status": "completed"
    },
    "tags": []
   },
   "outputs": [],
   "source": [
    "dfs = pd.DataFrame({'img': df.index.values + \".jpg\", 'rle_mask': rles})#creating dataframe of image id and predicted masks as columns \n"
   ]
  },
  {
   "cell_type": "code",
   "execution_count": 51,
   "id": "51d70bdd",
   "metadata": {
    "execution": {
     "iopub.execute_input": "2022-01-20T10:38:27.313818Z",
     "iopub.status.busy": "2022-01-20T10:38:27.313112Z",
     "iopub.status.idle": "2022-01-20T10:41:14.979897Z",
     "shell.execute_reply": "2022-01-20T10:41:14.979308Z",
     "shell.execute_reply.started": "2022-01-20T09:58:09.936257Z"
    },
    "papermill": {
     "duration": 168.011522,
     "end_time": "2022-01-20T10:41:14.980037",
     "exception": false,
     "start_time": "2022-01-20T10:38:26.968515",
     "status": "completed"
    },
    "tags": []
   },
   "outputs": [],
   "source": [
    "dfs.to_csv('submission_6.csv.gz', index=False, compression ='gzip' )#converting to compressed csv file "
   ]
  },
  {
   "cell_type": "code",
   "execution_count": 52,
   "id": "947527ce",
   "metadata": {
    "execution": {
     "iopub.execute_input": "2022-01-20T10:41:15.602890Z",
     "iopub.status.busy": "2022-01-20T10:41:15.596226Z",
     "iopub.status.idle": "2022-01-20T10:41:27.352527Z",
     "shell.execute_reply": "2022-01-20T10:41:27.351801Z",
     "shell.execute_reply.started": "2022-01-20T10:02:35.968250Z"
    },
    "papermill": {
     "duration": 12.066259,
     "end_time": "2022-01-20T10:41:27.352664",
     "exception": false,
     "start_time": "2022-01-20T10:41:15.286405",
     "status": "completed"
    },
    "tags": []
   },
   "outputs": [
    {
     "data": {
      "text/html": [
       "<div>\n",
       "<style scoped>\n",
       "    .dataframe tbody tr th:only-of-type {\n",
       "        vertical-align: middle;\n",
       "    }\n",
       "\n",
       "    .dataframe tbody tr th {\n",
       "        vertical-align: top;\n",
       "    }\n",
       "\n",
       "    .dataframe thead th {\n",
       "        text-align: right;\n",
       "    }\n",
       "</style>\n",
       "<table border=\"1\" class=\"dataframe\">\n",
       "  <thead>\n",
       "    <tr style=\"text-align: right;\">\n",
       "      <th></th>\n",
       "      <th>img</th>\n",
       "      <th>rle_mask</th>\n",
       "    </tr>\n",
       "  </thead>\n",
       "  <tbody>\n",
       "    <tr>\n",
       "      <th>0</th>\n",
       "      <td>02b33b412bde_15.jpg</td>\n",
       "      <td>689290 11 691202 21 693115 31 695029 39 696944...</td>\n",
       "    </tr>\n",
       "    <tr>\n",
       "      <th>1</th>\n",
       "      <td>24d3b6153fe7_03.jpg</td>\n",
       "      <td>781630 2 783546 7 785462 11 787378 15 789294 2...</td>\n",
       "    </tr>\n",
       "    <tr>\n",
       "      <th>2</th>\n",
       "      <td>62eb96adb87f_03.jpg</td>\n",
       "      <td>538220 13 540131 35 542043 50 543956 59 545870...</td>\n",
       "    </tr>\n",
       "    <tr>\n",
       "      <th>3</th>\n",
       "      <td>e24ee4eccccf_05.jpg</td>\n",
       "      <td>689711 16 691622 35 693534 50 695388 35 695447...</td>\n",
       "    </tr>\n",
       "    <tr>\n",
       "      <th>4</th>\n",
       "      <td>2ef2b5949b6d_02.jpg</td>\n",
       "      <td>883251 5 883374 2 885152 26 885288 10 887059 4...</td>\n",
       "    </tr>\n",
       "    <tr>\n",
       "      <th>...</th>\n",
       "      <td>...</td>\n",
       "      <td>...</td>\n",
       "    </tr>\n",
       "    <tr>\n",
       "      <th>100059</th>\n",
       "      <td>3df59244b0b8_09.jpg</td>\n",
       "      <td>798859 22 800773 36 802688 42 804602 48 806517...</td>\n",
       "    </tr>\n",
       "    <tr>\n",
       "      <th>100060</th>\n",
       "      <td>1c02d4ff189f_07.jpg</td>\n",
       "      <td>538068 14 539976 35 541783 12 541882 60 543689...</td>\n",
       "    </tr>\n",
       "    <tr>\n",
       "      <th>100061</th>\n",
       "      <td>8dca6df26c58_08.jpg</td>\n",
       "      <td>802758 3 804671 25 806474 3 806585 71 808389 1...</td>\n",
       "    </tr>\n",
       "    <tr>\n",
       "      <th>100062</th>\n",
       "      <td>881a4aa969ea_14.jpg</td>\n",
       "      <td>589619 3 589735 15 591479 14 591515 31 591647 ...</td>\n",
       "    </tr>\n",
       "    <tr>\n",
       "      <th>100063</th>\n",
       "      <td>788e1e49c027_09.jpg</td>\n",
       "      <td>873664 1 875571 18 877481 32 879392 45 881305 ...</td>\n",
       "    </tr>\n",
       "  </tbody>\n",
       "</table>\n",
       "<p>100064 rows × 2 columns</p>\n",
       "</div>"
      ],
      "text/plain": [
       "                        img                                           rle_mask\n",
       "0       02b33b412bde_15.jpg  689290 11 691202 21 693115 31 695029 39 696944...\n",
       "1       24d3b6153fe7_03.jpg  781630 2 783546 7 785462 11 787378 15 789294 2...\n",
       "2       62eb96adb87f_03.jpg  538220 13 540131 35 542043 50 543956 59 545870...\n",
       "3       e24ee4eccccf_05.jpg  689711 16 691622 35 693534 50 695388 35 695447...\n",
       "4       2ef2b5949b6d_02.jpg  883251 5 883374 2 885152 26 885288 10 887059 4...\n",
       "...                     ...                                                ...\n",
       "100059  3df59244b0b8_09.jpg  798859 22 800773 36 802688 42 804602 48 806517...\n",
       "100060  1c02d4ff189f_07.jpg  538068 14 539976 35 541783 12 541882 60 543689...\n",
       "100061  8dca6df26c58_08.jpg  802758 3 804671 25 806474 3 806585 71 808389 1...\n",
       "100062  881a4aa969ea_14.jpg  589619 3 589735 15 591479 14 591515 31 591647 ...\n",
       "100063  788e1e49c027_09.jpg  873664 1 875571 18 877481 32 879392 45 881305 ...\n",
       "\n",
       "[100064 rows x 2 columns]"
      ]
     },
     "execution_count": 52,
     "metadata": {},
     "output_type": "execute_result"
    }
   ],
   "source": [
    "pd.read_csv(\"./submission_6.csv.gz\")"
   ]
  },
  {
   "cell_type": "code",
   "execution_count": null,
   "id": "1238a04d",
   "metadata": {
    "papermill": {
     "duration": 0.305834,
     "end_time": "2022-01-20T10:41:27.970435",
     "exception": false,
     "start_time": "2022-01-20T10:41:27.664601",
     "status": "completed"
    },
    "tags": []
   },
   "outputs": [],
   "source": []
  }
 ],
 "metadata": {
  "kernelspec": {
   "display_name": "Python 3 (ipykernel)",
   "language": "python",
   "name": "python3"
  },
  "language_info": {
   "codemirror_mode": {
    "name": "ipython",
    "version": 3
   },
   "file_extension": ".py",
   "mimetype": "text/x-python",
   "name": "python",
   "nbconvert_exporter": "python",
   "pygments_lexer": "ipython3",
   "version": "3.9.6"
  },
  "papermill": {
   "default_parameters": {},
   "duration": 2140.535447,
   "end_time": "2022-01-20T10:41:31.418376",
   "environment_variables": {},
   "exception": null,
   "input_path": "__notebook__.ipynb",
   "output_path": "__notebook__.ipynb",
   "parameters": {},
   "start_time": "2022-01-20T10:05:50.882929",
   "version": "2.3.3"
  }
 },
 "nbformat": 4,
 "nbformat_minor": 5
}
